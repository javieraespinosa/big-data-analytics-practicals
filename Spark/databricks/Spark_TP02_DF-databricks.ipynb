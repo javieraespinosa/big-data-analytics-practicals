{
 "cells": [
  {
   "cell_type": "markdown",
   "metadata": {
    "application/vnd.databricks.v1+cell": {
     "cellMetadata": {},
     "inputWidgets": {},
     "nuid": "4a2883fb-e620-48ff-9ea2-3146d0b1c6c8",
     "showTitle": false,
     "tableResultSettingsMap": {},
     "title": ""
    }
   },
   "source": [
    "## Setup"
   ]
  },
  {
   "cell_type": "code",
   "execution_count": 0,
   "metadata": {
    "application/vnd.databricks.v1+cell": {
     "cellMetadata": {
      "byteLimit": 2048000,
      "rowLimit": 10000
     },
     "inputWidgets": {},
     "nuid": "b6f179fe-0914-48e4-a7e0-977b846032ae",
     "showTitle": false,
     "tableResultSettingsMap": {},
     "title": ""
    }
   },
   "outputs": [],
   "source": [
    "!git clone https://github.com/javieraespinosa/big-data-analytics-practicals.git"
   ]
  },
  {
   "cell_type": "code",
   "execution_count": 0,
   "metadata": {
    "application/vnd.databricks.v1+cell": {
     "cellMetadata": {
      "byteLimit": 2048000,
      "rowLimit": 10000
     },
     "inputWidgets": {},
     "nuid": "1a4097a2-7535-4cef-b5a2-c5e30293e893",
     "showTitle": false,
     "tableResultSettingsMap": {},
     "title": ""
    }
   },
   "outputs": [],
   "source": [
    "%cd big-data-analytics-practicals/data \n",
    "%ls -d $PWD/*\n",
    "%cd ../.."
   ]
  },
  {
   "cell_type": "code",
   "execution_count": 0,
   "metadata": {
    "application/vnd.databricks.v1+cell": {
     "cellMetadata": {
      "byteLimit": 2048000,
      "rowLimit": 10000
     },
     "inputWidgets": {},
     "nuid": "09a3bb1a-f9dc-4fcf-9f09-045cf7795c7d",
     "showTitle": false,
     "tableResultSettingsMap": {},
     "title": ""
    }
   },
   "outputs": [],
   "source": [
    "dbutils.fs.cp(\"file:///databricks/driver/big-data-analytics-practicals/data/appl_stock.csv\", \"dbfs:/appl_stock.csv\")\n",
    "dbutils.fs.cp(\"file:///databricks/driver/big-data-analytics-practicals/data/sales_info.csv\", \"dbfs:/sales_info.csv\")"
   ]
  },
  {
   "cell_type": "markdown",
   "metadata": {
    "application/vnd.databricks.v1+cell": {
     "cellMetadata": {},
     "inputWidgets": {},
     "nuid": "b8947ae3-4011-41c2-a910-02bb240a4540",
     "showTitle": false,
     "tableResultSettingsMap": {},
     "title": ""
    },
    "id": "Tim9TYgrzaRN"
   },
   "source": [
    "# Les Dataframes en Pratique"
   ]
  },
  {
   "cell_type": "markdown",
   "metadata": {
    "application/vnd.databricks.v1+cell": {
     "cellMetadata": {},
     "inputWidgets": {},
     "nuid": "b995ff8c-5833-4d5d-8199-3ae2f99a4387",
     "showTitle": false,
     "tableResultSettingsMap": {},
     "title": ""
    },
    "id": "uiO41R2mzaRP"
   },
   "source": [
    "## 1 Instructions\n",
    "\n",
    "Nous jouerons dans ce TP  avec les fonctionnalités des DataFrames.\n",
    "\n",
    "Utilisez la documentation sur l'API des DataFrames pour répondre aux questions qui vous seront posées dans ce TP.\n",
    "\n",
    "https://spark.apache.org/docs/latest/api/python/reference/pyspark.sql/dataframe.html\n",
    "\n",
    "\n",
    "Dans ce TP, vous utiliserez le notebook pour exécuter vos programmes à partir des cellules code reconnaissables avec [] .\n",
    "\n"
   ]
  },
  {
   "cell_type": "markdown",
   "metadata": {
    "application/vnd.databricks.v1+cell": {
     "cellMetadata": {},
     "inputWidgets": {},
     "nuid": "138ed1c8-b2cb-470c-877e-70e35f3d1f65",
     "showTitle": false,
     "tableResultSettingsMap": {},
     "title": ""
    },
    "id": "O7SF-AArzaRS"
   },
   "source": [
    "### Connexion à Spark"
   ]
  },
  {
   "cell_type": "markdown",
   "metadata": {
    "application/vnd.databricks.v1+cell": {
     "cellMetadata": {},
     "inputWidgets": {},
     "nuid": "ed8fcc5a-1fe0-4851-97ae-77d5de7eeb0f",
     "showTitle": false,
     "tableResultSettingsMap": {},
     "title": ""
    },
    "id": "jHDD7oLlzaRU"
   },
   "source": [
    "La variable \"spark\" est un objet de type SparkSession et c'est via cette variable que nous soumettrons des programmes distribués.\n",
    "\n",
    "On peut vérifier notre connexion avec la commande suivante :\n",
    "    "
   ]
  },
  {
   "cell_type": "code",
   "execution_count": 0,
   "metadata": {
    "application/vnd.databricks.v1+cell": {
     "cellMetadata": {
      "byteLimit": 2048000,
      "rowLimit": 10000
     },
     "inputWidgets": {},
     "nuid": "14f2c25c-2c39-4bd1-be77-f65cebefc673",
     "showTitle": false,
     "tableResultSettingsMap": {},
     "title": ""
    },
    "id": "4u7_ZevYzaRU"
   },
   "outputs": [],
   "source": [
    "import pyspark\n",
    "from pyspark.sql.functions import desc, col, udf\n",
    "from pyspark.sql.types import StringType\n",
    "\n",
    "from pyspark.sql import SparkSession\n",
    "spark"
   ]
  },
  {
   "cell_type": "markdown",
   "metadata": {
    "application/vnd.databricks.v1+cell": {
     "cellMetadata": {},
     "inputWidgets": {},
     "nuid": "2a113624-1681-4f71-a7bd-629080998245",
     "showTitle": false,
     "tableResultSettingsMap": {},
     "title": ""
    },
    "id": "t-kG2NiJzaRU"
   },
   "source": [
    "## Exercice"
   ]
  },
  {
   "cell_type": "markdown",
   "metadata": {
    "application/vnd.databricks.v1+cell": {
     "cellMetadata": {},
     "inputWidgets": {},
     "nuid": "3cfb8400-02d9-4de6-9538-a81b3324afb3",
     "showTitle": false,
     "tableResultSettingsMap": {},
     "title": ""
    },
    "id": "JrUXLIHvzaRV"
   },
   "source": [
    "Nous allons travailler sur les données en bourse du marché des pommes.\n",
    "\n",
    "Ouvrer le fichier appl_stock.csv et chargez le dans un dataframe."
   ]
  },
  {
   "cell_type": "code",
   "execution_count": 0,
   "metadata": {
    "application/vnd.databricks.v1+cell": {
     "cellMetadata": {},
     "inputWidgets": {},
     "nuid": "5eadafe6-8404-43f3-9d87-870e9693ac0f",
     "showTitle": false,
     "tableResultSettingsMap": {},
     "title": ""
    },
    "id": "Eai6itGCzaRV"
   },
   "outputs": [],
   "source": [
    "# Entrez vos code ici :\n"
   ]
  },
  {
   "cell_type": "markdown",
   "metadata": {
    "application/vnd.databricks.v1+cell": {
     "cellMetadata": {},
     "inputWidgets": {},
     "nuid": "796cdd37-afda-405b-a94e-d7743a288ffa",
     "showTitle": false,
     "tableResultSettingsMap": {},
     "title": ""
    },
    "id": "kdtpROFmzaRW"
   },
   "source": [
    "Afficher la structure, les types du schema"
   ]
  },
  {
   "cell_type": "code",
   "execution_count": 0,
   "metadata": {
    "application/vnd.databricks.v1+cell": {
     "cellMetadata": {},
     "inputWidgets": {},
     "nuid": "1cccc4b3-13a5-4bc0-8b36-07d1adb86c8e",
     "showTitle": false,
     "tableResultSettingsMap": {},
     "title": ""
    },
    "id": "3t_Kk-tUzaRW",
    "outputId": "c3a25063-a2bf-4e95-dead-df90bd5e0b68"
   },
   "outputs": [
    {
     "output_type": "stream",
     "name": "stdout",
     "output_type": "stream",
     "text": [
      "root\n |-- Date: timestamp (nullable = true)\n |-- Open: double (nullable = true)\n |-- High: double (nullable = true)\n |-- Low: double (nullable = true)\n |-- Close: double (nullable = true)\n |-- Volume: integer (nullable = true)\n |-- Adj Close: double (nullable = true)\n\n"
     ]
    }
   ],
   "source": []
  },
  {
   "cell_type": "markdown",
   "metadata": {
    "application/vnd.databricks.v1+cell": {
     "cellMetadata": {},
     "inputWidgets": {},
     "nuid": "2f4d3e5f-2919-40e7-9b52-631a42f37df0",
     "showTitle": false,
     "tableResultSettingsMap": {},
     "title": ""
    },
    "id": "Dfkq-hN-zaRY"
   },
   "source": [
    "Afficher les dates et le prix des pommes à la clôture de la bourse qui sont inférieur à 300."
   ]
  },
  {
   "cell_type": "code",
   "execution_count": 0,
   "metadata": {
    "application/vnd.databricks.v1+cell": {
     "cellMetadata": {},
     "inputWidgets": {},
     "nuid": "3a2f4689-deb0-4a50-a160-561fa6edec1e",
     "showTitle": false,
     "tableResultSettingsMap": {},
     "title": ""
    },
    "id": "Go_rHngHzaRZ",
    "outputId": "5fc82596-3a8e-4beb-d9d8-62239ef61584"
   },
   "outputs": [
    {
     "output_type": "stream",
     "name": "stdout",
     "output_type": "stream",
     "text": [
      "+-------------------+------------------+\n|               Date|             Close|\n+-------------------+------------------+\n|2010-01-04 00:00:00|        214.009998|\n|2010-01-05 00:00:00|        214.379993|\n|2010-01-06 00:00:00|        210.969995|\n|2010-01-07 00:00:00|            210.58|\n|2010-01-08 00:00:00|211.98000499999998|\n|2010-01-11 00:00:00|210.11000299999998|\n|2010-01-12 00:00:00|        207.720001|\n|2010-01-13 00:00:00|        210.650002|\n|2010-01-14 00:00:00|            209.43|\n|2010-01-15 00:00:00|            205.93|\n|2010-01-19 00:00:00|        215.039995|\n|2010-01-20 00:00:00|            211.73|\n|2010-01-21 00:00:00|        208.069996|\n|2010-01-22 00:00:00|            197.75|\n|2010-01-25 00:00:00|        203.070002|\n|2010-01-26 00:00:00|        205.940001|\n|2010-01-27 00:00:00|        207.880005|\n|2010-01-28 00:00:00|        199.289995|\n|2010-01-29 00:00:00|        192.060003|\n|2010-02-01 00:00:00|        194.729998|\n+-------------------+------------------+\nonly showing top 20 rows\n\n"
     ]
    }
   ],
   "source": []
  },
  {
   "cell_type": "markdown",
   "metadata": {
    "application/vnd.databricks.v1+cell": {
     "cellMetadata": {},
     "inputWidgets": {},
     "nuid": "166ce7b1-51c4-4c45-90eb-5a9be59fa6ea",
     "showTitle": false,
     "tableResultSettingsMap": {},
     "title": ""
    },
    "id": "5DjFLtpzzaRZ"
   },
   "source": [
    "Retourner les lignes sur lesquels le prix à la clotûre est < 300 et dont le prix à l'ouverture est > 300"
   ]
  },
  {
   "cell_type": "code",
   "execution_count": 0,
   "metadata": {
    "application/vnd.databricks.v1+cell": {
     "cellMetadata": {},
     "inputWidgets": {},
     "nuid": "422df983-c12e-4188-bfcd-dfb67d8486ca",
     "showTitle": false,
     "tableResultSettingsMap": {},
     "title": ""
    },
    "id": "hnX3hcYozaRZ",
    "outputId": "289af8ea-02aa-47f3-beab-718f88c86671"
   },
   "outputs": [
    {
     "output_type": "stream",
     "name": "stdout",
     "output_type": "stream",
     "text": [
      "+-------------------+------------------+----------+----------+----------+---------+------------------+\n|               Date|              Open|      High|       Low|     Close|   Volume|         Adj Close|\n+-------------------+------------------+----------+----------+----------+---------+------------------+\n|2010-01-22 00:00:00|206.78000600000001|207.499996|    197.16|    197.75|220441900|         25.620401|\n|2010-01-28 00:00:00|        204.930004|205.500004|198.699995|199.289995|293375600|25.819922000000002|\n|2010-01-29 00:00:00|        201.079996|202.199995|190.250002|192.060003|311488100|         24.883208|\n+-------------------+------------------+----------+----------+----------+---------+------------------+\n\n"
     ]
    }
   ],
   "source": []
  },
  {
   "cell_type": "markdown",
   "metadata": {
    "application/vnd.databricks.v1+cell": {
     "cellMetadata": {},
     "inputWidgets": {},
     "nuid": "e6123956-1a61-421a-a53b-65344d05733c",
     "showTitle": false,
     "tableResultSettingsMap": {},
     "title": ""
    },
    "id": "OQvOHJbSzaRa"
   },
   "source": [
    "Donner les statistiques sur l'ensemble des colonnes"
   ]
  },
  {
   "cell_type": "code",
   "execution_count": 0,
   "metadata": {
    "application/vnd.databricks.v1+cell": {
     "cellMetadata": {},
     "inputWidgets": {},
     "nuid": "1b5f3b2d-543f-4d0d-bde1-f274cf3f3bea",
     "showTitle": false,
     "tableResultSettingsMap": {},
     "title": ""
    },
    "id": "lLurhBxnzaRa",
    "outputId": "1b009f84-304a-401b-80df-f6e72e00342c"
   },
   "outputs": [
    {
     "output_type": "stream",
     "name": "stdout",
     "output_type": "stream",
     "text": [
      "+-------+------------------+------------------+------------------+-----------------+-------------------+------------------+\n|summary|              Open|              High|               Low|            Close|             Volume|         Adj Close|\n+-------+------------------+------------------+------------------+-----------------+-------------------+------------------+\n|  count|              1762|              1762|              1762|             1762|               1762|              1762|\n|   mean| 313.0763111589103| 315.9112880164581| 309.8282405079457|312.9270656379113|9.422577587968218E7| 75.00174115607275|\n| stddev|185.29946803981522|186.89817686485767|183.38391664371008|185.1471036170943|6.020518776592709E7| 28.57492972179906|\n|    min|              90.0|         90.699997|         89.470001|        90.279999|           11475900|         24.881912|\n|    max|        702.409988|        705.070023|        699.569977|       702.100021|          470249500|127.96609099999999|\n+-------+------------------+------------------+------------------+-----------------+-------------------+------------------+\n\n"
     ]
    }
   ],
   "source": []
  },
  {
   "cell_type": "markdown",
   "metadata": {
    "application/vnd.databricks.v1+cell": {
     "cellMetadata": {},
     "inputWidgets": {},
     "nuid": "f5f41c6a-3b98-4c75-9317-cda2255fbe1b",
     "showTitle": false,
     "tableResultSettingsMap": {},
     "title": ""
    },
    "id": "cKId3NArzaRa"
   },
   "source": [
    "Ajouter une colonne Year qui mentionnera uniquement l'année de vente .<br/>\n",
    "Indice: utilisez la fonction year pour extraire l'année du champs Date.\n",
    "\n",
    "On retournera le résultat dans un nouveau dataframe `new_df`"
   ]
  },
  {
   "cell_type": "code",
   "execution_count": 0,
   "metadata": {
    "application/vnd.databricks.v1+cell": {
     "cellMetadata": {},
     "inputWidgets": {},
     "nuid": "489a6187-5418-4ac1-b5c3-4a9ea6f01a68",
     "showTitle": false,
     "tableResultSettingsMap": {},
     "title": ""
    },
    "id": "nRqwDRaPzaRb",
    "outputId": "dbb94928-cedf-4bd7-b596-0e2cfd6b87e7"
   },
   "outputs": [
    {
     "output_type": "stream",
     "name": "stdout",
     "output_type": "stream",
     "text": [
      "+-------------------+----------+----------+------------------+------------------+---------+------------------+----+\n|               Date|      Open|      High|               Low|             Close|   Volume|         Adj Close|Year|\n+-------------------+----------+----------+------------------+------------------+---------+------------------+----+\n|2010-01-04 00:00:00|213.429998|214.499996|212.38000099999996|        214.009998|123432400|         27.727039|2010|\n|2010-01-05 00:00:00|214.599998|215.589994|        213.249994|        214.379993|150476200|27.774976000000002|2010|\n|2010-01-06 00:00:00|214.379993|    215.23|        210.750004|        210.969995|138040000|27.333178000000004|2010|\n|2010-01-07 00:00:00|    211.75|212.000006|        209.050005|            210.58|119282800|          27.28265|2010|\n|2010-01-08 00:00:00|210.299994|212.000006|209.06000500000002|211.98000499999998|111902700|         27.464034|2010|\n+-------------------+----------+----------+------------------+------------------+---------+------------------+----+\nonly showing top 5 rows\n\n"
     ]
    }
   ],
   "source": []
  },
  {
   "cell_type": "markdown",
   "metadata": {
    "application/vnd.databricks.v1+cell": {
     "cellMetadata": {},
     "inputWidgets": {},
     "nuid": "ba047e57-5c08-4905-95c9-38eb18a7d21b",
     "showTitle": false,
     "tableResultSettingsMap": {},
     "title": ""
    },
    "id": "tyGf9giWzaRb"
   },
   "source": [
    "## Les fonctions d'aggrégation"
   ]
  },
  {
   "cell_type": "markdown",
   "metadata": {
    "application/vnd.databricks.v1+cell": {
     "cellMetadata": {},
     "inputWidgets": {},
     "nuid": "625f7361-0548-4d28-88c8-f45b7f0a00d5",
     "showTitle": false,
     "tableResultSettingsMap": {},
     "title": ""
    },
    "id": "a-OQ79-uzaRc"
   },
   "source": [
    "Déterminer le prix moyen par année de l'ensemble des colonnes :"
   ]
  },
  {
   "cell_type": "code",
   "execution_count": 0,
   "metadata": {
    "application/vnd.databricks.v1+cell": {
     "cellMetadata": {},
     "inputWidgets": {},
     "nuid": "9878effe-aab9-49b0-b53b-c24989680314",
     "showTitle": false,
     "tableResultSettingsMap": {},
     "title": ""
    },
    "id": "8XGWFMmazaRc",
    "outputId": "0be98a7f-981e-4fb0-a7fa-4e2e71ab12df"
   },
   "outputs": [
    {
     "output_type": "stream",
     "name": "stdout",
     "output_type": "stream",
     "text": [
      "+----+------------------+------------------+------------------+------------------+--------------------+------------------+---------+\n|Year|         avg(Open)|         avg(High)|          avg(Low)|        avg(Close)|         avg(Volume)|    avg(Adj Close)|avg(Year)|\n+----+------------------+------------------+------------------+------------------+--------------------+------------------+---------+\n|2015|120.17575393253965|121.24452385714291| 118.8630954325397|120.03999980555547|  5.18378869047619E7|115.96740080555561|   2015.0|\n|2013| 473.1281355634922| 477.6389272301587|468.24710264682557| 472.6348802857143|          1.016087E8| 62.61798788492063|   2013.0|\n|2014| 295.1426195357143|297.56103184523823| 292.9949599801587| 295.4023416507935| 6.315273055555555E7| 87.63583323809523|   2014.0|\n|2012|     576.652720788| 581.8254008040001| 569.9211606079999| 576.0497195640002|       1.319642044E8| 74.81383696800002|   2012.0|\n|2016|104.50777772619044| 105.4271825436508|103.69027771825397|104.60400786904763|  3.84153623015873E7|103.15032854761901|   2016.0|\n|2010| 259.9576190992064|262.36880881349214|256.84761791269847| 259.8424600000002|1.4982631666666666E8|33.665072424603196|   2010.0|\n|2011|364.06142773412705| 367.4235704880951|360.29769878174613|364.00432532142867|1.2307474166666667E8| 47.16023692063492|   2011.0|\n+----+------------------+------------------+------------------+------------------+--------------------+------------------+---------+\n\n"
     ]
    }
   ],
   "source": []
  },
  {
   "cell_type": "markdown",
   "metadata": {
    "application/vnd.databricks.v1+cell": {
     "cellMetadata": {},
     "inputWidgets": {},
     "nuid": "f452cf25-3580-4396-bf61-5655cab03188",
     "showTitle": false,
     "tableResultSettingsMap": {},
     "title": ""
    },
    "id": "3crgjKwXzaRc"
   },
   "source": [
    "Déterminez  les prix maximum, minimum et moyen à la fermeture :\n"
   ]
  },
  {
   "cell_type": "code",
   "execution_count": 0,
   "metadata": {
    "application/vnd.databricks.v1+cell": {
     "cellMetadata": {},
     "inputWidgets": {},
     "nuid": "c4829920-3a8b-4676-a4bf-49c76c26eee1",
     "showTitle": false,
     "tableResultSettingsMap": {},
     "title": ""
    },
    "id": "EhCX8izSzaRd",
    "outputId": "cc22c797-bbc1-471a-e863-080d43b82da1"
   },
   "outputs": [
    {
     "output_type": "stream",
     "name": "stdout",
     "output_type": "stream",
     "text": [
      "+----------+---------+-----------------+\n| Max Close|Min Close|        Avg Close|\n+----------+---------+-----------------+\n|702.100021|90.279999|312.9270656379113|\n+----------+---------+-----------------+\n\n"
     ]
    }
   ],
   "source": [
    "from pyspark.sql.functions import *\n",
    "\n"
   ]
  },
  {
   "cell_type": "markdown",
   "metadata": {
    "application/vnd.databricks.v1+cell": {
     "cellMetadata": {},
     "inputWidgets": {},
     "nuid": "74442529-2a5c-476a-b71a-c2a2e74e3faa",
     "showTitle": false,
     "tableResultSettingsMap": {},
     "title": ""
    },
    "id": "AQ9Lq_XozaRd"
   },
   "source": [
    "Déterminez  les prix maximum, minimum et moyen à la clôture pour chaque année :\n"
   ]
  },
  {
   "cell_type": "code",
   "execution_count": 0,
   "metadata": {
    "application/vnd.databricks.v1+cell": {
     "cellMetadata": {},
     "inputWidgets": {},
     "nuid": "ff4db9d1-e519-44e4-82a0-c69568ea46f0",
     "showTitle": false,
     "tableResultSettingsMap": {},
     "title": ""
    },
    "id": "d2rj8XR0zaRd",
    "outputId": "a7bf9647-6a1f-4e61-98a0-90bd9d3290a1"
   },
   "outputs": [
    {
     "output_type": "stream",
     "name": "stdout",
     "output_type": "stream",
     "text": [
      "+----------+---------+-----------------+\n| Max Close|Min Close|        Avg Close|\n+----------+---------+-----------------+\n|702.100021|90.279999|312.9270656379113|\n+----------+---------+-----------------+\n\n"
     ]
    }
   ],
   "source": [
    "import pyspark.sql.functions as f\n"
   ]
  },
  {
   "cell_type": "markdown",
   "metadata": {
    "application/vnd.databricks.v1+cell": {
     "cellMetadata": {},
     "inputWidgets": {},
     "nuid": "6d3ce7bb-d3f9-41a7-89f2-aa0908a3293c",
     "showTitle": false,
     "tableResultSettingsMap": {},
     "title": ""
    },
    "id": "wcWURrnnzaRe"
   },
   "source": [
    "## SQL"
   ]
  },
  {
   "cell_type": "markdown",
   "metadata": {
    "application/vnd.databricks.v1+cell": {
     "cellMetadata": {},
     "inputWidgets": {},
     "nuid": "512e0d6d-7f50-4bf3-a2e0-13a9f81f46a6",
     "showTitle": false,
     "tableResultSettingsMap": {},
     "title": ""
    },
    "id": "nBLcL-przaRe"
   },
   "source": [
    "Vous analyserez à présent le fichier de vente à partir du langage SQL :\n"
   ]
  },
  {
   "cell_type": "markdown",
   "metadata": {
    "application/vnd.databricks.v1+cell": {
     "cellMetadata": {},
     "inputWidgets": {},
     "nuid": "d8782b26-cbb4-49ec-9566-2f5f3f411fec",
     "showTitle": false,
     "tableResultSettingsMap": {},
     "title": ""
    },
    "id": "rG20kRuZzaRe"
   },
   "source": [
    "* Créer une vue sales à partir du dataframe new_df qui sera consultable en SQL :   "
   ]
  },
  {
   "cell_type": "code",
   "execution_count": 0,
   "metadata": {
    "application/vnd.databricks.v1+cell": {
     "cellMetadata": {},
     "inputWidgets": {},
     "nuid": "fb4a910d-3f87-42aa-b01b-bfa42781eb7c",
     "showTitle": false,
     "tableResultSettingsMap": {},
     "title": ""
    },
    "id": "Tq2V0vOMzaRf"
   },
   "outputs": [],
   "source": []
  },
  {
   "cell_type": "markdown",
   "metadata": {
    "application/vnd.databricks.v1+cell": {
     "cellMetadata": {},
     "inputWidgets": {},
     "nuid": "68a87981-f035-45f2-bdd7-005282c9a5ef",
     "showTitle": false,
     "tableResultSettingsMap": {},
     "title": ""
    },
    "id": "_gqwBn-1zaRf"
   },
   "source": [
    "* Afficher la structure de la vue sales :"
   ]
  },
  {
   "cell_type": "code",
   "execution_count": 0,
   "metadata": {
    "application/vnd.databricks.v1+cell": {
     "cellMetadata": {},
     "inputWidgets": {},
     "nuid": "901ceaa2-169b-4907-aef6-f34236d3143a",
     "showTitle": false,
     "tableResultSettingsMap": {},
     "title": ""
    },
    "id": "geZc-7YDzaRf"
   },
   "outputs": [],
   "source": []
  },
  {
   "cell_type": "markdown",
   "metadata": {
    "application/vnd.databricks.v1+cell": {
     "cellMetadata": {},
     "inputWidgets": {},
     "nuid": "1ccba597-704c-4b68-9c73-9880ccf8c0d8",
     "showTitle": false,
     "tableResultSettingsMap": {},
     "title": ""
    },
    "id": "-YLWswltzaRf"
   },
   "source": [
    "* Afficher les dates et le prix des pommes à la clôture de la bourse qui sont inférieur à 300$."
   ]
  },
  {
   "cell_type": "code",
   "execution_count": 0,
   "metadata": {
    "application/vnd.databricks.v1+cell": {
     "cellMetadata": {},
     "inputWidgets": {},
     "nuid": "e7beafd0-7d07-4ed2-98f3-9c4356ed4fc0",
     "showTitle": false,
     "tableResultSettingsMap": {},
     "title": ""
    },
    "id": "Wnk8KAzKzaRf"
   },
   "outputs": [],
   "source": []
  },
  {
   "cell_type": "markdown",
   "metadata": {
    "application/vnd.databricks.v1+cell": {
     "cellMetadata": {},
     "inputWidgets": {},
     "nuid": "15bfce72-c76b-4493-8fe1-d1458a66e45b",
     "showTitle": false,
     "tableResultSettingsMap": {},
     "title": ""
    },
    "id": "6h8fKMxyzaRg"
   },
   "source": [
    "* Créer une vue sales300 à partir de la requête précédente qui sera consultable en SQL :   "
   ]
  },
  {
   "cell_type": "code",
   "execution_count": 0,
   "metadata": {
    "application/vnd.databricks.v1+cell": {
     "cellMetadata": {},
     "inputWidgets": {},
     "nuid": "664cae3f-9152-4e4a-ac54-83604198f155",
     "showTitle": false,
     "tableResultSettingsMap": {},
     "title": ""
    },
    "id": "fGsNy3qUzaRg"
   },
   "outputs": [],
   "source": []
  },
  {
   "cell_type": "markdown",
   "metadata": {
    "application/vnd.databricks.v1+cell": {
     "cellMetadata": {},
     "inputWidgets": {},
     "nuid": "b457651a-b870-42e3-bf56-7f5cc1a59832",
     "showTitle": false,
     "tableResultSettingsMap": {},
     "title": ""
    },
    "id": "WSa7xb02zaRg"
   },
   "source": [
    "* Déterminer  les prix maximum, minimum et moyen à la clôture pour chaque année sur la vue sales300 :\n"
   ]
  },
  {
   "cell_type": "code",
   "execution_count": 0,
   "metadata": {
    "application/vnd.databricks.v1+cell": {
     "cellMetadata": {},
     "inputWidgets": {},
     "nuid": "4a63019d-cecd-4293-96a3-e75b7481ad47",
     "showTitle": false,
     "tableResultSettingsMap": {},
     "title": ""
    },
    "id": "0guEqWMhzaRg"
   },
   "outputs": [],
   "source": []
  },
  {
   "cell_type": "code",
   "execution_count": 0,
   "metadata": {
    "application/vnd.databricks.v1+cell": {
     "cellMetadata": {},
     "inputWidgets": {},
     "nuid": "d6230990-a9a6-461c-bae7-13564cec34b6",
     "showTitle": false,
     "tableResultSettingsMap": {},
     "title": ""
    },
    "id": "n-_kauHQzaRg"
   },
   "outputs": [],
   "source": []
  },
  {
   "cell_type": "markdown",
   "metadata": {
    "application/vnd.databricks.v1+cell": {
     "cellMetadata": {},
     "inputWidgets": {},
     "nuid": "a6368df1-6950-4e8e-8f13-9e5903204b94",
     "showTitle": false,
     "tableResultSettingsMap": {},
     "title": ""
    },
    "id": "QIi5fiCPzaRh"
   },
   "source": [
    "* Conserver le résultat de la requête précédente en json :"
   ]
  },
  {
   "cell_type": "code",
   "execution_count": 0,
   "metadata": {
    "application/vnd.databricks.v1+cell": {
     "cellMetadata": {},
     "inputWidgets": {},
     "nuid": "1b8de0dd-8db0-4bd3-9f2a-ce75cb38edcc",
     "showTitle": false,
     "tableResultSettingsMap": {},
     "title": ""
    },
    "id": "lmQmRNESzaRh"
   },
   "outputs": [],
   "source": []
  },
  {
   "cell_type": "markdown",
   "metadata": {
    "application/vnd.databricks.v1+cell": {
     "cellMetadata": {},
     "inputWidgets": {},
     "nuid": "b5249cb3-fc13-462f-9775-e4b11b77317c",
     "showTitle": false,
     "tableResultSettingsMap": {},
     "title": ""
    },
    "id": "bpLFodINzaRh"
   },
   "source": [
    "Bravo !!!\n",
    "\n",
    "Vous avez terminé cette introduction au Dataframe, vous pouvez fermer la connexion au cluster Spark."
   ]
  },
  {
   "cell_type": "markdown",
   "metadata": {
    "application/vnd.databricks.v1+cell": {
     "cellMetadata": {},
     "inputWidgets": {},
     "nuid": "85525063-93d0-4b61-b174-b4d21de9e5fb",
     "showTitle": false,
     "tableResultSettingsMap": {},
     "title": ""
    }
   },
   "source": [
    "# Cleaning"
   ]
  },
  {
   "cell_type": "code",
   "execution_count": 0,
   "metadata": {
    "application/vnd.databricks.v1+cell": {
     "cellMetadata": {
      "byteLimit": 2048000,
      "rowLimit": 10000
     },
     "inputWidgets": {},
     "nuid": "1deffbe0-aa67-43c2-91b3-53d78eb79704",
     "showTitle": false,
     "tableResultSettingsMap": {},
     "title": ""
    },
    "id": "CiVqKUZazaRh"
   },
   "outputs": [],
   "source": [
    "dbutils.fs.rm(\"dbfs:/appl_stock.csv\")\n",
    "dbutils.fs.rm(\"dbfs:/sales_info.csv\")"
   ]
  }
 ],
 "metadata": {
  "application/vnd.databricks.v1+notebook": {
   "dashboards": [],
   "environmentMetadata": null,
   "language": "python",
   "notebookMetadata": {
    "pythonIndentUnit": 4
   },
   "notebookName": "Spark_TP02_DF-databricks",
   "widgets": {}
  },
  "colab": {
   "provenance": [],
   "toc_visible": true
  },
  "kernelspec": {
   "display_name": "Python 3 (ipykernel)",
   "language": "python",
   "name": "python3"
  },
  "language_info": {
   "codemirror_mode": {
    "name": "ipython",
    "version": 3
   },
   "file_extension": ".py",
   "mimetype": "text/x-python",
   "name": "python",
   "nbconvert_exporter": "python",
   "pygments_lexer": "ipython3",
   "version": "3.7.10"
  }
 },
 "nbformat": 4,
 "nbformat_minor": 0
}
