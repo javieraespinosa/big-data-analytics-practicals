{
 "cells": [
  {
   "cell_type": "markdown",
   "metadata": {
    "application/vnd.databricks.v1+cell": {
     "cellMetadata": {
      "byteLimit": 2048000,
      "rowLimit": 10000
     },
     "inputWidgets": {},
     "nuid": "4e395489-e44f-4ecf-aeec-bf1fab4ccdd8",
     "showTitle": false,
     "tableResultSettingsMap": {},
     "title": ""
    }
   },
   "source": [
    "## Setup"
   ]
  },
  {
   "cell_type": "code",
   "execution_count": 0,
   "metadata": {
    "application/vnd.databricks.v1+cell": {
     "cellMetadata": {
      "byteLimit": 2048000,
      "rowLimit": 10000
     },
     "inputWidgets": {},
     "nuid": "ac120ac0-65e9-4c22-ac53-cc1b738ca28e",
     "showTitle": false,
     "tableResultSettingsMap": {},
     "title": ""
    }
   },
   "outputs": [],
   "source": [
    "!git clone https://github.com/javieraespinosa/big-data-analytics-practicals.git"
   ]
  },
  {
   "cell_type": "code",
   "execution_count": 0,
   "metadata": {
    "application/vnd.databricks.v1+cell": {
     "cellMetadata": {
      "byteLimit": 2048000,
      "rowLimit": 10000
     },
     "inputWidgets": {},
     "nuid": "02559a5a-5c47-4b25-b948-100124575a63",
     "showTitle": false,
     "tableResultSettingsMap": {},
     "title": ""
    }
   },
   "outputs": [],
   "source": [
    "%cd big-data-analytics-practicals/data \n",
    "%ls -d $PWD/*\n",
    "%cd ../.."
   ]
  },
  {
   "cell_type": "code",
   "execution_count": 0,
   "metadata": {
    "application/vnd.databricks.v1+cell": {
     "cellMetadata": {
      "byteLimit": 2048000,
      "rowLimit": 10000
     },
     "inputWidgets": {},
     "nuid": "d3176c95-6355-467f-ac74-e7ceb504cfc5",
     "showTitle": false,
     "tableResultSettingsMap": {},
     "title": ""
    }
   },
   "outputs": [],
   "source": [
    "dbutils.fs.cp(\"file:///databricks/driver/big-data-analytics-practicals/data/appl_stock.csv\", \"dbfs:/appl_stock.csv\")\n",
    "dbutils.fs.cp(\"file:///databricks/driver/big-data-analytics-practicals/data/sales_info.csv\", \"dbfs:/sales_info.csv\")"
   ]
  },
  {
   "cell_type": "code",
   "execution_count": 0,
   "metadata": {
    "application/vnd.databricks.v1+cell": {
     "cellMetadata": {
      "byteLimit": 2048000,
      "rowLimit": 10000
     },
     "inputWidgets": {},
     "nuid": "456d453b-57ef-4c93-9a87-5c4f1407117b",
     "showTitle": false,
     "tableResultSettingsMap": {},
     "title": ""
    },
    "id": "mWPH6P_ku8Zu"
   },
   "outputs": [],
   "source": [
    "spark"
   ]
  },
  {
   "cell_type": "markdown",
   "metadata": {
    "application/vnd.databricks.v1+cell": {
     "cellMetadata": {
      "byteLimit": 2048000,
      "rowLimit": 10000
     },
     "inputWidgets": {},
     "nuid": "e8014e76-e50e-47c6-b35e-7d487ffd4b5a",
     "showTitle": false,
     "tableResultSettingsMap": {},
     "title": ""
    },
    "id": "-be3DYD0k-hN"
   },
   "source": [
    "# Introduction au Dataframe avec Spark\n",
    "\n",
    "\n",
    "## 1 Présentation\n",
    "\n",
    "Pour faciliter le développement de programme, Spark à partir de la version 2 intégre la notion de Dataframe.\n",
    "\n",
    "Le DataFrame est une couche d'abstraction des RDD, qui présentent les données comme des tables de base de données sans se préoccuper de la taille des données.\n",
    "Les DataFrames offrent de nombreux avantages:\n",
    "* Une syntaxe beaucoup plus simple.\n",
    "* Possibilité d'utiliser SQL directement dans la trame de données.\n",
    "* La parallélisation des traitements dans une architecture distribuée est gérée par Spark.\n",
    "\n",
    "Si vous avez utilisé R ou même la bibliothèque pandas avec Python, vous connaissez probablement déjà le concept des DataFrames. Même si Spark supporte plusieurs langages il faut savoir que le langage le moins efficace est le python.\n",
    "\n",
    "Vous êtes prêt, jouons un peu avec les dataframes.\n",
    "\n",
    "Let's get started!\n",
    "\n",
    "\n"
   ]
  },
  {
   "cell_type": "markdown",
   "metadata": {
    "application/vnd.databricks.v1+cell": {
     "cellMetadata": {
      "byteLimit": 2048000,
      "rowLimit": 10000
     },
     "inputWidgets": {},
     "nuid": "94acfbec-941d-433a-8f9c-4d85a104446a",
     "showTitle": false,
     "tableResultSettingsMap": {},
     "title": ""
    },
    "id": "HdJDLKACk-hV"
   },
   "source": [
    "## 1 - Les fichiers de données"
   ]
  },
  {
   "cell_type": "markdown",
   "metadata": {
    "application/vnd.databricks.v1+cell": {
     "cellMetadata": {
      "byteLimit": 2048000,
      "rowLimit": 10000
     },
     "inputWidgets": {},
     "nuid": "cb4dde50-0669-40a0-b524-8c33f7e609c9",
     "showTitle": false,
     "tableResultSettingsMap": {},
     "title": ""
    },
    "id": "bX5LRzDfk-hV"
   },
   "source": [
    "Pour lire un fichier, il suffit d'utiliser la fonction associée à votre format de fichier:\n",
    "* csv,txt -> load\n",
    "* parquet -> parquet\n",
    "* json -> json\n",
    "..."
   ]
  },
  {
   "cell_type": "code",
   "execution_count": 0,
   "metadata": {
    "application/vnd.databricks.v1+cell": {
     "cellMetadata": {
      "byteLimit": 2048000,
      "rowLimit": 10000
     },
     "inputWidgets": {},
     "nuid": "571eb938-3deb-4925-b636-41ccf181147b",
     "showTitle": false,
     "tableResultSettingsMap": {},
     "title": ""
    },
    "id": "uoIvFAYVk-hW"
   },
   "outputs": [],
   "source": [
    "df_csv = spark.read.load(\"dbfs:/sales_info.csv\", format=\"csv\", sep=\",\", inferSchema=\"true\", header=\"true\")"
   ]
  },
  {
   "cell_type": "markdown",
   "metadata": {
    "application/vnd.databricks.v1+cell": {
     "cellMetadata": {
      "byteLimit": 2048000,
      "rowLimit": 10000
     },
     "inputWidgets": {},
     "nuid": "ddeb598c-5b97-4914-95ac-63f004272c6a",
     "showTitle": false,
     "tableResultSettingsMap": {},
     "title": ""
    },
    "id": "6v1viQCdk-hW"
   },
   "source": [
    "Dans les options de lecture du fichier, nous avons demandé à Spark d'utiliser le séparteur \",\"  et d'inférer le schéma.\n",
    "\n",
    "Pour consulter le schéma évaluer par Spark utilisez la fonction printSchema()"
   ]
  },
  {
   "cell_type": "code",
   "execution_count": 0,
   "metadata": {
    "application/vnd.databricks.v1+cell": {
     "cellMetadata": {
      "byteLimit": 2048000,
      "rowLimit": 10000
     },
     "inputWidgets": {},
     "nuid": "a105d36b-6c69-4bdd-a3b7-59968510b713",
     "showTitle": false,
     "tableResultSettingsMap": {},
     "title": ""
    },
    "id": "4sJcgTAVk-hW"
   },
   "outputs": [],
   "source": [
    "df_csv.printSchema()"
   ]
  },
  {
   "cell_type": "markdown",
   "metadata": {
    "application/vnd.databricks.v1+cell": {
     "cellMetadata": {
      "byteLimit": 2048000,
      "rowLimit": 10000
     },
     "inputWidgets": {},
     "nuid": "f14bd197-6f92-4281-9e99-934aeaf73d05",
     "showTitle": false,
     "tableResultSettingsMap": {},
     "title": ""
    },
    "id": "OMKxYuark-hX"
   },
   "source": [
    "Pour voir les fonctions disponibles avec les dataframes consultez la documentation Spark :\n",
    "https://spark.apache.org/docs/latest/api/python/reference/pyspark.sql/dataframe.html\n",
    "\n",
    "Pour avoir un aperçu des données, utilisez la méthode show()"
   ]
  },
  {
   "cell_type": "code",
   "execution_count": 0,
   "metadata": {
    "application/vnd.databricks.v1+cell": {
     "cellMetadata": {
      "byteLimit": 2048000,
      "rowLimit": 10000
     },
     "inputWidgets": {},
     "nuid": "8e281416-cb4f-40a5-9607-19c2b8e8038a",
     "showTitle": false,
     "tableResultSettingsMap": {},
     "title": ""
    },
    "id": "CZhIA-ZHk-hX"
   },
   "outputs": [],
   "source": [
    "df_csv.show()"
   ]
  },
  {
   "cell_type": "markdown",
   "metadata": {
    "application/vnd.databricks.v1+cell": {
     "cellMetadata": {
      "byteLimit": 2048000,
      "rowLimit": 10000
     },
     "inputWidgets": {},
     "nuid": "d2fae9dd-fc90-4e6e-8306-77db35e575f8",
     "showTitle": false,
     "tableResultSettingsMap": {},
     "title": ""
    },
    "id": "acytOv04k-hX"
   },
   "source": [
    "Vous l'aurez compris Spark utilise un échantillonage des données pour évaluer le schema des données.\n",
    "\n",
    "Si le schéma ne vous convient pas vous pouvez lui indiquer le schema que vous souhaitez (renommer les noms des colonnes par exemple)."
   ]
  },
  {
   "cell_type": "code",
   "execution_count": 0,
   "metadata": {
    "application/vnd.databricks.v1+cell": {
     "cellMetadata": {
      "byteLimit": 2048000,
      "rowLimit": 10000
     },
     "inputWidgets": {},
     "nuid": "1f1a700a-26ee-4715-b630-15a2a2b63b9b",
     "showTitle": false,
     "tableResultSettingsMap": {},
     "title": ""
    },
    "id": "5gj97dvSk-hY"
   },
   "outputs": [],
   "source": [
    "from pyspark.sql.types import *\n",
    "# Required for StructField, StringType, IntegerType, etc.\n",
    "\n",
    "\n",
    "fields = [  StructField(\"Compagnie\", StringType(), True),\n",
    "            StructField(\"Personne\", StringType(), True),\n",
    "            StructField(\"Ventes\", FloatType(), False)\n",
    "            ]\n",
    "\n",
    "csvSchema = StructType(fields)"
   ]
  },
  {
   "cell_type": "code",
   "execution_count": 0,
   "metadata": {
    "application/vnd.databricks.v1+cell": {
     "cellMetadata": {
      "byteLimit": 2048000,
      "rowLimit": 10000
     },
     "inputWidgets": {},
     "nuid": "2a7b6ecd-dbbb-4ff9-ae8c-5df64f9522c6",
     "showTitle": false,
     "tableResultSettingsMap": {},
     "title": ""
    },
    "id": "ag3ObPYhk-hY"
   },
   "outputs": [],
   "source": [
    "df_csv_with_my_schema = spark.read.option(\"header\", \"true\").option(\"delimiter\", \",\").schema(csvSchema).csv(\"dbfs:/sales_info.csv\")"
   ]
  },
  {
   "cell_type": "code",
   "execution_count": 0,
   "metadata": {
    "application/vnd.databricks.v1+cell": {
     "cellMetadata": {
      "byteLimit": 2048000,
      "rowLimit": 10000
     },
     "inputWidgets": {},
     "nuid": "55c66b31-426a-4802-920d-f5a980254de0",
     "showTitle": false,
     "tableResultSettingsMap": {},
     "title": ""
    },
    "id": "3E-8SI-hk-hY"
   },
   "outputs": [],
   "source": [
    "df_csv_with_my_schema.printSchema()"
   ]
  },
  {
   "cell_type": "code",
   "execution_count": 0,
   "metadata": {
    "application/vnd.databricks.v1+cell": {
     "cellMetadata": {
      "byteLimit": 2048000,
      "rowLimit": 10000
     },
     "inputWidgets": {},
     "nuid": "eaa0f907-8ebd-45ad-9ba1-f46463209ec7",
     "showTitle": false,
     "tableResultSettingsMap": {},
     "title": ""
    },
    "id": "nx7dg89rk-hZ",
    "tags": []
   },
   "outputs": [],
   "source": [
    "df_csv_with_my_schema.show()"
   ]
  },
  {
   "cell_type": "markdown",
   "metadata": {
    "application/vnd.databricks.v1+cell": {
     "cellMetadata": {
      "byteLimit": 2048000,
      "rowLimit": 10000
     },
     "inputWidgets": {},
     "nuid": "168b5362-9e96-4fde-bed3-7185c4537044",
     "showTitle": false,
     "tableResultSettingsMap": {},
     "title": ""
    },
    "id": "4vgD4byXk-hZ"
   },
   "source": [
    "Les fichiers csv et texte ne sont pas des formats adaptés pour de grosse volumétrie.\n",
    "Une bonne pratique dans les environnements de BIG DATA est de travailler avec des formats binaires pour 2 raisons :\n",
    "* il consomme moins de stockage.\n",
    "* il est plus facile de déplacer des données via le réseau.\n",
    "\n",
    "Dans les écosystèmes HADOOP, les données sont sérialisées sous 2 formes :\n",
    "* Ligne : Avro, Kryo, Protobuff\n",
    "* Column : Parquet, Orc\n",
    "\n",
    "En entreprise, vous trouverez souvent les formats Avro ou parquet pour leur performance.\n",
    "\n",
    "Pour convertir un fichier en parquet c'est aussi simple que ça :"
   ]
  },
  {
   "cell_type": "code",
   "execution_count": 0,
   "metadata": {
    "application/vnd.databricks.v1+cell": {
     "cellMetadata": {
      "byteLimit": 2048000,
      "rowLimit": 10000
     },
     "inputWidgets": {},
     "nuid": "b188db09-d0da-4bfe-8a0c-7eebf5c93134",
     "showTitle": false,
     "tableResultSettingsMap": {},
     "title": ""
    },
    "id": "65FzyrREk-hZ"
   },
   "outputs": [],
   "source": [
    "df_csv_with_my_schema.write.format(\"parquet\").save(\"dbfs:/sales_info.parquet\")"
   ]
  },
  {
   "cell_type": "code",
   "execution_count": 0,
   "metadata": {
    "application/vnd.databricks.v1+cell": {
     "cellMetadata": {
      "byteLimit": 2048000,
      "rowLimit": 10000
     },
     "inputWidgets": {},
     "nuid": "c9ff6def-9c28-4216-888d-63578c2b998a",
     "showTitle": false,
     "tableResultSettingsMap": {},
     "title": ""
    },
    "id": "wDGkBrq7k-ha"
   },
   "outputs": [],
   "source": [
    "dbutils.fs.ls(\"dbfs:/sales_info.parquet\")"
   ]
  },
  {
   "cell_type": "markdown",
   "metadata": {
    "application/vnd.databricks.v1+cell": {
     "cellMetadata": {
      "byteLimit": 2048000,
      "rowLimit": 10000
     },
     "inputWidgets": {},
     "nuid": "566f22d0-8848-4814-bd6d-411d26f9731d",
     "showTitle": false,
     "tableResultSettingsMap": {},
     "title": ""
    },
    "id": "BNFiihXJk-ha"
   },
   "source": [
    "Vous pouvez remarquer qu'au format parquet, notre fichier sales_info.parquet est un répertoire contenant des fichiers part-00000, cela vous rappelle-t'il quelque chose ?\n",
    "En effet, pour traiter des données parquet sait que les données vont être distribuées et par conséquent applique le principe de partitionnement. Pour un fichier de plusieurs Go, il est possible d'indiquer la taille des partitions parquet.\n",
    "\n",
    "Bien entendu, la plupart des formats binaires inscrit le schéma des données dans chaque partition.\n",
    "\n",
    "Vérifions cela :"
   ]
  },
  {
   "cell_type": "code",
   "execution_count": 0,
   "metadata": {
    "application/vnd.databricks.v1+cell": {
     "cellMetadata": {
      "byteLimit": 2048000,
      "rowLimit": 10000
     },
     "inputWidgets": {},
     "nuid": "37fd47de-7ca2-469c-8180-daf99049e103",
     "showTitle": false,
     "tableResultSettingsMap": {},
     "title": ""
    },
    "id": "8L5to_3Vk-hb"
   },
   "outputs": [],
   "source": [
    "Sales_parquet = spark.read.parquet(\"dbfs:/sales_info.parquet\")"
   ]
  },
  {
   "cell_type": "code",
   "execution_count": 0,
   "metadata": {
    "application/vnd.databricks.v1+cell": {
     "cellMetadata": {
      "byteLimit": 2048000,
      "rowLimit": 10000
     },
     "inputWidgets": {},
     "nuid": "d81cbf28-05c8-4c6f-86a6-b83b5f15c103",
     "showTitle": false,
     "tableResultSettingsMap": {},
     "title": ""
    },
    "id": "s_Paj-kSk-hb"
   },
   "outputs": [],
   "source": [
    "Sales_parquet.printSchema()"
   ]
  },
  {
   "cell_type": "code",
   "execution_count": 0,
   "metadata": {
    "application/vnd.databricks.v1+cell": {
     "cellMetadata": {
      "byteLimit": 2048000,
      "rowLimit": 10000
     },
     "inputWidgets": {},
     "nuid": "1b6efa37-7581-43e8-b5d9-deb5730e4252",
     "showTitle": false,
     "tableResultSettingsMap": {},
     "title": ""
    },
    "id": "-D5jlUPIk-hb"
   },
   "outputs": [],
   "source": [
    "Sales_parquet.show()"
   ]
  },
  {
   "cell_type": "markdown",
   "metadata": {
    "application/vnd.databricks.v1+cell": {
     "cellMetadata": {
      "byteLimit": 2048000,
      "rowLimit": 10000
     },
     "inputWidgets": {},
     "nuid": "7cd3979f-5f19-4b9c-8351-cb9ee44d5131",
     "showTitle": false,
     "tableResultSettingsMap": {},
     "title": ""
    },
    "id": "WUipd3Ark-hb"
   },
   "source": [
    "On peut facilement convertir d'un format à un autre :"
   ]
  },
  {
   "cell_type": "code",
   "execution_count": 0,
   "metadata": {
    "application/vnd.databricks.v1+cell": {
     "cellMetadata": {
      "byteLimit": 2048000,
      "rowLimit": 10000
     },
     "inputWidgets": {},
     "nuid": "46caeaa5-8563-43d1-9a3b-10fabc78efc7",
     "showTitle": false,
     "tableResultSettingsMap": {},
     "title": ""
    },
    "id": "MterkxxSk-hc"
   },
   "outputs": [],
   "source": [
    "Sales_parquet.write.format('json').save('dbfs:/sales.json')"
   ]
  },
  {
   "cell_type": "markdown",
   "metadata": {
    "application/vnd.databricks.v1+cell": {
     "cellMetadata": {
      "byteLimit": 2048000,
      "rowLimit": 10000
     },
     "inputWidgets": {},
     "nuid": "0910e28f-903f-46cb-9af0-a3e47927c3b3",
     "showTitle": false,
     "tableResultSettingsMap": {},
     "title": ""
    },
    "id": "Jf4GU9J1k-hc"
   },
   "source": [
    "Pour lire ensuite vos données."
   ]
  },
  {
   "cell_type": "code",
   "execution_count": 0,
   "metadata": {
    "application/vnd.databricks.v1+cell": {
     "cellMetadata": {
      "byteLimit": 2048000,
      "rowLimit": 10000
     },
     "inputWidgets": {},
     "nuid": "40ed0176-6a15-4abf-8716-3120637cb626",
     "showTitle": false,
     "tableResultSettingsMap": {},
     "title": ""
    },
    "id": "O2MUmMHRk-hd"
   },
   "outputs": [],
   "source": [
    "Sales_json = spark.read.json(\"dbfs:/sales.json\")"
   ]
  },
  {
   "cell_type": "code",
   "execution_count": 0,
   "metadata": {
    "application/vnd.databricks.v1+cell": {
     "cellMetadata": {
      "byteLimit": 2048000,
      "rowLimit": 10000
     },
     "inputWidgets": {},
     "nuid": "08b9b5a4-e900-4d9e-8513-2ec44037306c",
     "showTitle": false,
     "tableResultSettingsMap": {},
     "title": ""
    },
    "id": "dgwrwnFxk-he"
   },
   "outputs": [],
   "source": [
    "Sales_json.show()"
   ]
  },
  {
   "cell_type": "markdown",
   "metadata": {
    "application/vnd.databricks.v1+cell": {
     "cellMetadata": {
      "byteLimit": 2048000,
      "rowLimit": 10000
     },
     "inputWidgets": {},
     "nuid": "1f09b5dd-9878-412b-b44c-7c74dc89b1d9",
     "showTitle": false,
     "tableResultSettingsMap": {},
     "title": ""
    },
    "id": "zeBoDqrfk-hf"
   },
   "source": [
    "# 2 Exploiter les DataFrames"
   ]
  },
  {
   "cell_type": "markdown",
   "metadata": {
    "application/vnd.databricks.v1+cell": {
     "cellMetadata": {
      "byteLimit": 2048000,
      "rowLimit": 10000
     },
     "inputWidgets": {},
     "nuid": "e04c005d-2d89-4ec5-bdba-c3d574354af3",
     "showTitle": false,
     "tableResultSettingsMap": {},
     "title": ""
    },
    "id": "gnumh0_Vk-hf"
   },
   "source": [
    "Pour manipuler les DataFrames, nous avons un ensemble de méthodes disponibles :"
   ]
  },
  {
   "cell_type": "code",
   "execution_count": 0,
   "metadata": {
    "application/vnd.databricks.v1+cell": {
     "cellMetadata": {
      "byteLimit": 2048000,
      "rowLimit": 10000
     },
     "inputWidgets": {},
     "nuid": "96d57664-4f3f-4a6d-801e-d3302821a5ca",
     "showTitle": false,
     "tableResultSettingsMap": {},
     "title": ""
    },
    "id": "Pc63FW-Xk-hg",
    "tags": []
   },
   "outputs": [],
   "source": [
    "df = spark.read.parquet(\"dbfs:/sales_info.parquet\")"
   ]
  },
  {
   "cell_type": "code",
   "execution_count": 0,
   "metadata": {
    "application/vnd.databricks.v1+cell": {
     "cellMetadata": {
      "byteLimit": 2048000,
      "rowLimit": 10000
     },
     "inputWidgets": {},
     "nuid": "0680285c-6727-4e56-8aec-fdfa5c7df057",
     "showTitle": false,
     "tableResultSettingsMap": {},
     "title": ""
    },
    "id": "E1NBb835k-hg"
   },
   "outputs": [],
   "source": [
    "dir(df)"
   ]
  },
  {
   "cell_type": "markdown",
   "metadata": {
    "application/vnd.databricks.v1+cell": {
     "cellMetadata": {
      "byteLimit": 2048000,
      "rowLimit": 10000
     },
     "inputWidgets": {},
     "nuid": "b248ec2c-2b8e-43a4-9fa2-db781b400163",
     "showTitle": false,
     "tableResultSettingsMap": {},
     "title": ""
    },
    "id": "2sr0RdhRk-hg"
   },
   "source": [
    "Pour afficher les colonnes :"
   ]
  },
  {
   "cell_type": "code",
   "execution_count": 0,
   "metadata": {
    "application/vnd.databricks.v1+cell": {
     "cellMetadata": {
      "byteLimit": 2048000,
      "rowLimit": 10000
     },
     "inputWidgets": {},
     "nuid": "17670435-8eda-4d27-9747-457d3143b6db",
     "showTitle": false,
     "tableResultSettingsMap": {},
     "title": ""
    },
    "id": "cV-GwFB4k-hg"
   },
   "outputs": [],
   "source": [
    "df.columns"
   ]
  },
  {
   "cell_type": "markdown",
   "metadata": {
    "application/vnd.databricks.v1+cell": {
     "cellMetadata": {
      "byteLimit": 2048000,
      "rowLimit": 10000
     },
     "inputWidgets": {},
     "nuid": "c0219318-cd1f-4ee9-a391-b39d89e03367",
     "showTitle": false,
     "tableResultSettingsMap": {},
     "title": ""
    },
    "id": "bB6W9cg7k-hh"
   },
   "source": [
    "Travaillons à présent sur les manipulations que nous pouvons faire :"
   ]
  },
  {
   "cell_type": "code",
   "execution_count": 0,
   "metadata": {
    "application/vnd.databricks.v1+cell": {
     "cellMetadata": {
      "byteLimit": 2048000,
      "rowLimit": 10000
     },
     "inputWidgets": {},
     "nuid": "f8b6c5e0-ec5c-4395-bc59-44a3b4e07c7c",
     "showTitle": false,
     "tableResultSettingsMap": {},
     "title": ""
    },
    "id": "qQeQmy8Gk-hh"
   },
   "outputs": [],
   "source": [
    "dfColVentes = df.select('Ventes')"
   ]
  },
  {
   "cell_type": "code",
   "execution_count": 0,
   "metadata": {
    "application/vnd.databricks.v1+cell": {
     "cellMetadata": {
      "byteLimit": 2048000,
      "rowLimit": 10000
     },
     "inputWidgets": {},
     "nuid": "50a2a68b-5759-4a4b-aaff-d77915fa8747",
     "showTitle": false,
     "tableResultSettingsMap": {},
     "title": ""
    },
    "id": "Vzu4vxH3k-hi"
   },
   "outputs": [],
   "source": [
    "type(dfColVentes)"
   ]
  },
  {
   "cell_type": "markdown",
   "metadata": {
    "application/vnd.databricks.v1+cell": {
     "cellMetadata": {
      "byteLimit": 2048000,
      "rowLimit": 10000
     },
     "inputWidgets": {},
     "nuid": "1bd92632-52c7-4bb6-b4f6-c7a9ffb4d5f9",
     "showTitle": false,
     "tableResultSettingsMap": {},
     "title": ""
    },
    "id": "gcf9BVthk-hi"
   },
   "source": [
    "Le résultat retourné par le select est un DataFrame"
   ]
  },
  {
   "cell_type": "code",
   "execution_count": 0,
   "metadata": {
    "application/vnd.databricks.v1+cell": {
     "cellMetadata": {
      "byteLimit": 2048000,
      "rowLimit": 10000
     },
     "inputWidgets": {},
     "nuid": "3271374a-0883-4da2-983f-c2d7ac51ecf7",
     "showTitle": false,
     "tableResultSettingsMap": {},
     "title": ""
    },
    "id": "xsDDuQEuk-hi"
   },
   "outputs": [],
   "source": [
    "df.select('Ventes').show()"
   ]
  },
  {
   "cell_type": "markdown",
   "metadata": {
    "application/vnd.databricks.v1+cell": {
     "cellMetadata": {
      "byteLimit": 2048000,
      "rowLimit": 10000
     },
     "inputWidgets": {},
     "nuid": "baef8a15-a6ae-4f23-b1f3-5a0831a3c2ec",
     "showTitle": false,
     "tableResultSettingsMap": {},
     "title": ""
    },
    "id": "D2Oicv6Lk-hj"
   },
   "source": [
    "Pour selectionner les N premières lignes, on trouvera la fonction head :"
   ]
  },
  {
   "cell_type": "code",
   "execution_count": 0,
   "metadata": {
    "application/vnd.databricks.v1+cell": {
     "cellMetadata": {
      "byteLimit": 2048000,
      "rowLimit": 10000
     },
     "inputWidgets": {},
     "nuid": "1b14ec57-aaae-47d6-ab1f-028449f293e5",
     "showTitle": false,
     "tableResultSettingsMap": {},
     "title": ""
    },
    "id": "51Xr3xD3k-hj"
   },
   "outputs": [],
   "source": [
    "# Retourne une d'object RowReturns list of Row objects\n",
    "df.head(2)"
   ]
  },
  {
   "cell_type": "markdown",
   "metadata": {
    "application/vnd.databricks.v1+cell": {
     "cellMetadata": {
      "byteLimit": 2048000,
      "rowLimit": 10000
     },
     "inputWidgets": {},
     "nuid": "4a5731dd-087b-4205-8723-632974e3e519",
     "showTitle": false,
     "tableResultSettingsMap": {},
     "title": ""
    },
    "id": "hPqqgqTqk-hj"
   },
   "source": [
    "Pour sélectionner multiple colonne :"
   ]
  },
  {
   "cell_type": "code",
   "execution_count": 0,
   "metadata": {
    "application/vnd.databricks.v1+cell": {
     "cellMetadata": {
      "byteLimit": 2048000,
      "rowLimit": 10000
     },
     "inputWidgets": {},
     "nuid": "eb46afd7-636b-4af8-97fc-08c483c54e97",
     "showTitle": false,
     "tableResultSettingsMap": {},
     "title": ""
    },
    "id": "OEtTH8MBk-hj"
   },
   "outputs": [],
   "source": [
    "df.select(['Compagnie','Ventes']).show()"
   ]
  },
  {
   "cell_type": "markdown",
   "metadata": {
    "application/vnd.databricks.v1+cell": {
     "cellMetadata": {
      "byteLimit": 2048000,
      "rowLimit": 10000
     },
     "inputWidgets": {},
     "nuid": "797884e6-076e-4a4e-96f2-59cd2886584b",
     "showTitle": false,
     "tableResultSettingsMap": {},
     "title": ""
    },
    "id": "awWP6R8Ak-hk"
   },
   "source": [
    "ou"
   ]
  },
  {
   "cell_type": "code",
   "execution_count": 0,
   "metadata": {
    "application/vnd.databricks.v1+cell": {
     "cellMetadata": {
      "byteLimit": 2048000,
      "rowLimit": 10000
     },
     "inputWidgets": {},
     "nuid": "ed1395bf-faf4-44b0-bb95-f3322354e2a4",
     "showTitle": false,
     "tableResultSettingsMap": {},
     "title": ""
    },
    "id": "EMVTPZ7pk-hk"
   },
   "outputs": [],
   "source": [
    "df.select(df.Compagnie.alias('test'), df.Ventes).show()"
   ]
  },
  {
   "cell_type": "markdown",
   "metadata": {
    "application/vnd.databricks.v1+cell": {
     "cellMetadata": {
      "byteLimit": 2048000,
      "rowLimit": 10000
     },
     "inputWidgets": {},
     "nuid": "a3f3396c-f343-483f-a79d-d4731797eb5d",
     "showTitle": false,
     "tableResultSettingsMap": {},
     "title": ""
    },
    "id": "OOB6Fafwk-hk"
   },
   "source": [
    "Pour le renommage d'une colonne on peut utiliser la méthode alias :"
   ]
  },
  {
   "cell_type": "code",
   "execution_count": 0,
   "metadata": {
    "application/vnd.databricks.v1+cell": {
     "cellMetadata": {
      "byteLimit": 2048000,
      "rowLimit": 10000
     },
     "inputWidgets": {},
     "nuid": "83e6565a-5032-4f20-bd44-9113499593b6",
     "showTitle": false,
     "tableResultSettingsMap": {},
     "title": ""
    },
    "id": "5FIWiYtBk-hk"
   },
   "outputs": [],
   "source": [
    "df.select(df.Compagnie.alias('col1'), df.Ventes.alias('col2')).show()"
   ]
  },
  {
   "cell_type": "markdown",
   "metadata": {
    "application/vnd.databricks.v1+cell": {
     "cellMetadata": {
      "byteLimit": 2048000,
      "rowLimit": 10000
     },
     "inputWidgets": {},
     "nuid": "2de8afa7-c3a8-4023-9507-6a6176f3633f",
     "showTitle": false,
     "tableResultSettingsMap": {},
     "title": ""
    },
    "id": "QuX2cuqtk-hl"
   },
   "source": [
    "Si on veut créer de nouvelles colonnes à partir d'une colonne existante  :"
   ]
  },
  {
   "cell_type": "code",
   "execution_count": 0,
   "metadata": {
    "application/vnd.databricks.v1+cell": {
     "cellMetadata": {
      "byteLimit": 2048000,
      "rowLimit": 10000
     },
     "inputWidgets": {},
     "nuid": "ad700b23-6548-4ce3-8556-eaf366574857",
     "showTitle": false,
     "tableResultSettingsMap": {},
     "title": ""
    },
    "id": "v1YyGvmYk-hl"
   },
   "outputs": [],
   "source": [
    "df.withColumn('VentesAdd', df['Ventes'] * 10).show()"
   ]
  },
  {
   "cell_type": "markdown",
   "metadata": {
    "application/vnd.databricks.v1+cell": {
     "cellMetadata": {
      "byteLimit": 2048000,
      "rowLimit": 10000
     },
     "inputWidgets": {},
     "nuid": "dd85c9c5-628a-4b4a-87d2-520e0d1b4bdb",
     "showTitle": false,
     "tableResultSettingsMap": {},
     "title": ""
    },
    "id": "SIMpiqyhk-hl"
   },
   "source": [
    "Pour renommer une colonne"
   ]
  },
  {
   "cell_type": "code",
   "execution_count": 0,
   "metadata": {
    "application/vnd.databricks.v1+cell": {
     "cellMetadata": {
      "byteLimit": 2048000,
      "rowLimit": 10000
     },
     "inputWidgets": {},
     "nuid": "e44fee6d-6451-4fd0-adf6-ee1b97c0251e",
     "showTitle": false,
     "tableResultSettingsMap": {},
     "title": ""
    },
    "id": "H-_q9Ulnk-hl"
   },
   "outputs": [],
   "source": [
    "# Simple Rename\n",
    "df.withColumnRenamed('Compagnie', 'Company').show()"
   ]
  },
  {
   "cell_type": "markdown",
   "metadata": {
    "application/vnd.databricks.v1+cell": {
     "cellMetadata": {
      "byteLimit": 2048000,
      "rowLimit": 10000
     },
     "inputWidgets": {},
     "nuid": "b16c2b08-5a98-4d4e-9a05-d2523355c651",
     "showTitle": false,
     "tableResultSettingsMap": {},
     "title": ""
    },
    "id": "sGshnLngk-hl"
   },
   "source": [
    "On peut filtrer sur un critére :"
   ]
  },
  {
   "cell_type": "code",
   "execution_count": 0,
   "metadata": {
    "application/vnd.databricks.v1+cell": {
     "cellMetadata": {
      "byteLimit": 2048000,
      "rowLimit": 10000
     },
     "inputWidgets": {},
     "nuid": "6be1c376-f205-4c37-9d2a-95b5f102c945",
     "showTitle": false,
     "tableResultSettingsMap": {},
     "title": ""
    },
    "id": "7Pyz5rF_k-hm"
   },
   "outputs": [],
   "source": [
    "df.filter(df.Personne==\"Sam\").show()"
   ]
  },
  {
   "cell_type": "markdown",
   "metadata": {
    "application/vnd.databricks.v1+cell": {
     "cellMetadata": {
      "byteLimit": 2048000,
      "rowLimit": 10000
     },
     "inputWidgets": {},
     "nuid": "a4d6a639-06fd-4e1c-88d0-b4c6d721a971",
     "showTitle": false,
     "tableResultSettingsMap": {},
     "title": ""
    },
    "id": "KJ7gFUFkk-hn"
   },
   "source": [
    "Pour les opérations d'agrégation, on utilisera les fonctions du module pyspark.sql.functions lequel regroupe les fonctions max, min, mean ..."
   ]
  },
  {
   "cell_type": "code",
   "execution_count": 0,
   "metadata": {
    "application/vnd.databricks.v1+cell": {
     "cellMetadata": {
      "byteLimit": 2048000,
      "rowLimit": 10000
     },
     "inputWidgets": {},
     "nuid": "f1a28a94-f412-4f4d-bda7-4fb3836cddb0",
     "showTitle": false,
     "tableResultSettingsMap": {},
     "title": ""
    },
    "id": "pq2j3eOjk-hn"
   },
   "outputs": [],
   "source": [
    "import pyspark.sql.functions as f\n",
    "\n",
    "df.groupBy('Compagnie').agg(f.max('Ventes').alias('Max Ventes'), f.min('Ventes').alias('Min Ventes'), f.mean('Ventes').alias('Moy_Ventes')).orderBy('Compagnie').show()"
   ]
  },
  {
   "cell_type": "markdown",
   "metadata": {
    "application/vnd.databricks.v1+cell": {
     "cellMetadata": {
      "byteLimit": 2048000,
      "rowLimit": 10000
     },
     "inputWidgets": {},
     "nuid": "6322eebb-0496-4719-ae28-587c6ec398aa",
     "showTitle": false,
     "tableResultSettingsMap": {},
     "title": ""
    },
    "id": "-3JLhzCZk-hn"
   },
   "source": [
    "Comme pour les bases de données relationnelles, on peut faire des jointures entre des sources de données avec différents formats :"
   ]
  },
  {
   "cell_type": "code",
   "execution_count": 0,
   "metadata": {
    "application/vnd.databricks.v1+cell": {
     "cellMetadata": {
      "byteLimit": 2048000,
      "rowLimit": 10000
     },
     "inputWidgets": {},
     "nuid": "a16858c3-e1af-4eb6-bc78-77ee0187d6df",
     "showTitle": false,
     "tableResultSettingsMap": {},
     "title": ""
    },
    "id": "FUHCvSXsk-hn"
   },
   "outputs": [],
   "source": [
    "from pyspark.sql import *\n",
    "# Création d'un dataframe des localisations des différentes compagnies.\n",
    "# Le code ci-dessous indique comment créer un dataframe manuellement\n",
    "\n",
    "Location = Row(\"Compagnie\", \"location\")\n",
    "location1 = Location('GOOG', 'US')\n",
    "location2 = Location('MSFT', 'EUROPE')\n",
    "location3 = Location('FB', 'ASIA')\n",
    "\n",
    "locationRows = [location1, location2, location3]\n",
    "df_location  = spark.createDataFrame(locationRows)\n",
    "type(df_location)"
   ]
  },
  {
   "cell_type": "markdown",
   "metadata": {
    "application/vnd.databricks.v1+cell": {
     "cellMetadata": {
      "byteLimit": 2048000,
      "rowLimit": 10000
     },
     "inputWidgets": {},
     "nuid": "22fa210c-9800-4fde-8e48-fe7fb966756b",
     "showTitle": false,
     "tableResultSettingsMap": {},
     "title": ""
    },
    "id": "cjhFtVBuk-ho"
   },
   "source": [
    "On affiche le contenu de notre nouveau dataframe :"
   ]
  },
  {
   "cell_type": "code",
   "execution_count": 0,
   "metadata": {
    "application/vnd.databricks.v1+cell": {
     "cellMetadata": {
      "byteLimit": 2048000,
      "rowLimit": 10000
     },
     "inputWidgets": {},
     "nuid": "bc66960a-6cc6-410e-8271-84503460476f",
     "showTitle": false,
     "tableResultSettingsMap": {},
     "title": ""
    },
    "id": "FsaZqfwCk-ho"
   },
   "outputs": [],
   "source": [
    "df_location.show()"
   ]
  },
  {
   "cell_type": "markdown",
   "metadata": {
    "application/vnd.databricks.v1+cell": {
     "cellMetadata": {
      "byteLimit": 2048000,
      "rowLimit": 10000
     },
     "inputWidgets": {},
     "nuid": "6a5066b9-e8fd-4aab-b388-bff774967838",
     "showTitle": false,
     "tableResultSettingsMap": {},
     "title": ""
    },
    "id": "eBA_uYsmk-ho"
   },
   "source": [
    "On affiche la structure du dataframe :"
   ]
  },
  {
   "cell_type": "code",
   "execution_count": 0,
   "metadata": {
    "application/vnd.databricks.v1+cell": {
     "cellMetadata": {
      "byteLimit": 2048000,
      "rowLimit": 10000
     },
     "inputWidgets": {},
     "nuid": "a00d1356-d32a-4c1d-86be-6d8d6344cca3",
     "showTitle": false,
     "tableResultSettingsMap": {},
     "title": ""
    },
    "id": "MH0Fl5yCk-ho"
   },
   "outputs": [],
   "source": [
    "df.printSchema()"
   ]
  },
  {
   "cell_type": "markdown",
   "metadata": {
    "application/vnd.databricks.v1+cell": {
     "cellMetadata": {
      "byteLimit": 2048000,
      "rowLimit": 10000
     },
     "inputWidgets": {},
     "nuid": "88e74e21-0a6c-42ed-b206-e754c25a0f22",
     "showTitle": false,
     "tableResultSettingsMap": {},
     "title": ""
    },
    "id": "DnmxZ949k-ho"
   },
   "source": [
    "On réalise la jointure entre le dataframe df listant toutes les ventes des companies et le dataframe df_location précisant la localisation des companies :"
   ]
  },
  {
   "cell_type": "code",
   "execution_count": 0,
   "metadata": {
    "application/vnd.databricks.v1+cell": {
     "cellMetadata": {
      "byteLimit": 2048000,
      "rowLimit": 10000
     },
     "inputWidgets": {},
     "nuid": "4d6fe783-9301-4aca-ad59-8c727eccfe15",
     "showTitle": false,
     "tableResultSettingsMap": {},
     "title": ""
    },
    "id": "O7Ctiezbk-hp"
   },
   "outputs": [],
   "source": [
    "df.join(df_location, df_location.Compagnie == df.Compagnie, \"left_outer\").show()"
   ]
  },
  {
   "cell_type": "markdown",
   "metadata": {
    "application/vnd.databricks.v1+cell": {
     "cellMetadata": {
      "byteLimit": 2048000,
      "rowLimit": 10000
     },
     "inputWidgets": {},
     "nuid": "165d558a-3070-4670-849c-9aa85c65f570",
     "showTitle": false,
     "tableResultSettingsMap": {},
     "title": ""
    },
    "id": "5gqEHb8-k-hp"
   },
   "source": [
    "### Utilisation du SQL\n",
    "\n",
    "Pour utiliser des requêtes SQL directement sur un DataFrame, vous devrez l'enregistrer dans une vue temporaire:"
   ]
  },
  {
   "cell_type": "code",
   "execution_count": 0,
   "metadata": {
    "application/vnd.databricks.v1+cell": {
     "cellMetadata": {
      "byteLimit": 2048000,
      "rowLimit": 10000
     },
     "inputWidgets": {},
     "nuid": "165d05ea-5c07-4cf1-b2fb-ca2445be257a",
     "showTitle": false,
     "tableResultSettingsMap": {},
     "title": ""
    },
    "id": "nLvU0G6Mk-hp",
    "tags": []
   },
   "outputs": [],
   "source": [
    "# La méthode createOrReplaceTempView enregistre\n",
    "# le DataFrame comme une view temporaire\n",
    "df.createOrReplaceTempView(\"sales\")"
   ]
  },
  {
   "cell_type": "code",
   "execution_count": 0,
   "metadata": {
    "application/vnd.databricks.v1+cell": {
     "cellMetadata": {
      "byteLimit": 2048000,
      "rowLimit": 10000
     },
     "inputWidgets": {},
     "nuid": "258ef9c1-6b77-4600-b7be-3d1d02d88fc6",
     "showTitle": false,
     "tableResultSettingsMap": {},
     "title": ""
    },
    "id": "XEb2LoEXk-hp"
   },
   "outputs": [],
   "source": [
    "sql_sales = spark.sql(\"SELECT * FROM sales\")"
   ]
  },
  {
   "cell_type": "code",
   "execution_count": 0,
   "metadata": {
    "application/vnd.databricks.v1+cell": {
     "cellMetadata": {
      "byteLimit": 2048000,
      "rowLimit": 10000
     },
     "inputWidgets": {},
     "nuid": "e607dd17-7050-42f3-ae74-c7eb82e648e6",
     "showTitle": false,
     "tableResultSettingsMap": {},
     "title": ""
    },
    "id": "cIhDhiEpk-hq"
   },
   "outputs": [],
   "source": [
    "sql_sales"
   ]
  },
  {
   "cell_type": "code",
   "execution_count": 0,
   "metadata": {
    "application/vnd.databricks.v1+cell": {
     "cellMetadata": {
      "byteLimit": 2048000,
      "rowLimit": 10000
     },
     "inputWidgets": {},
     "nuid": "09ae3206-1a9c-4064-b74b-d07edbba6efd",
     "showTitle": false,
     "tableResultSettingsMap": {},
     "title": ""
    },
    "id": "erECoIxKk-hq"
   },
   "outputs": [],
   "source": [
    "sql_sales.show()"
   ]
  },
  {
   "cell_type": "markdown",
   "metadata": {
    "application/vnd.databricks.v1+cell": {
     "cellMetadata": {
      "byteLimit": 2048000,
      "rowLimit": 10000
     },
     "inputWidgets": {},
     "nuid": "3f210e3f-33d9-4912-ba73-2ecb0610a9a0",
     "showTitle": false,
     "tableResultSettingsMap": {},
     "title": ""
    },
    "id": "SqUb86kyk-hq"
   },
   "source": [
    "Bien entendu, vous pouvez appliquer des requêtes SQL avec des conditions :"
   ]
  },
  {
   "cell_type": "code",
   "execution_count": 0,
   "metadata": {
    "application/vnd.databricks.v1+cell": {
     "cellMetadata": {
      "byteLimit": 2048000,
      "rowLimit": 10000
     },
     "inputWidgets": {},
     "nuid": "58333fe3-a950-43fc-926b-206f1c93a24f",
     "showTitle": false,
     "tableResultSettingsMap": {},
     "title": ""
    },
    "id": "RcC1YrBLk-hq"
   },
   "outputs": [],
   "source": [
    "spark.sql(\"SELECT * FROM sales WHERE Ventes > 500\").show()"
   ]
  },
  {
   "cell_type": "markdown",
   "metadata": {
    "application/vnd.databricks.v1+cell": {
     "cellMetadata": {
      "byteLimit": 2048000,
      "rowLimit": 10000
     },
     "inputWidgets": {},
     "nuid": "f0b207a1-ba7d-4feb-b4eb-f13eb085ae08",
     "showTitle": false,
     "tableResultSettingsMap": {},
     "title": ""
    },
    "id": "f7DuareQk-hq"
   },
   "source": [
    "Spark SQL supporte un sous ensemble de la norme SQL92."
   ]
  },
  {
   "cell_type": "markdown",
   "metadata": {
    "application/vnd.databricks.v1+cell": {
     "cellMetadata": {
      "byteLimit": 2048000,
      "rowLimit": 10000
     },
     "inputWidgets": {},
     "nuid": "412d93e8-4f33-4ac2-9340-9181504dff46",
     "showTitle": false,
     "tableResultSettingsMap": {},
     "title": ""
    },
    "id": "cbJKjBz_k-hr"
   },
   "source": [
    "Bravo !!!\n",
    "\n",
    "Vous êtes prêt à faire vos premiers exercices avec Spark."
   ]
  },
  {
   "cell_type": "markdown",
   "metadata": {
    "application/vnd.databricks.v1+cell": {
     "cellMetadata": {
      "byteLimit": 2048000,
      "rowLimit": 10000
     },
     "inputWidgets": {},
     "nuid": "2e410ce2-a603-4392-885c-5fa856ea6db1",
     "showTitle": false,
     "tableResultSettingsMap": {},
     "title": ""
    }
   },
   "source": [
    "# Cleaning"
   ]
  },
  {
   "cell_type": "code",
   "execution_count": 0,
   "metadata": {
    "application/vnd.databricks.v1+cell": {
     "cellMetadata": {
      "byteLimit": 2048000,
      "rowLimit": 10000
     },
     "inputWidgets": {},
     "nuid": "0ca0d380-f3b5-46f9-9828-10331d078de9",
     "showTitle": false,
     "tableResultSettingsMap": {},
     "title": ""
    }
   },
   "outputs": [],
   "source": [
    "dbutils.fs.rm(\"dbfs:/sales_info.parquet\", recurse=True)\n",
    "dbutils.fs.rm(\"dbfs:/sales.json\", recurse=True)\n",
    "dbutils.fs.rm(\"dbfs:/appl_stock.csv\")\n",
    "dbutils.fs.rm(\"dbfs:/sales_info.csv\")"
   ]
  }
 ],
 "metadata": {
  "anaconda-cloud": {},
  "application/vnd.databricks.v1+notebook": {
   "dashboards": [],
   "environmentMetadata": null,
   "language": "python",
   "notebookMetadata": {
    "mostRecentlyExecutedCommandWithImplicitDF": {
     "commandId": -1,
     "dataframes": [
      "_sqldf"
     ]
    },
    "pythonIndentUnit": 4
   },
   "notebookName": "Spark_TP01_DF-databricks",
   "widgets": {}
  },
  "colab": {
   "provenance": []
  },
  "kernelspec": {
   "display_name": "Python 3 (ipykernel)",
   "language": "python",
   "name": "python3"
  },
  "language_info": {
   "codemirror_mode": {
    "name": "ipython",
    "version": 3
   },
   "file_extension": ".py",
   "mimetype": "text/x-python",
   "name": "python",
   "nbconvert_exporter": "python",
   "pygments_lexer": "ipython3",
   "version": "3.7.10"
  },
  "nbpresent": {
   "slides": {},
   "themes": {
    "default": "0535adbc-b74f-46cc-9cd6-4eabe2477c8e",
    "theme": {
     "0535adbc-b74f-46cc-9cd6-4eabe2477c8e": {
      "backgrounds": {
       "backgroundColor": {
        "background-color": "backgroundColor",
        "id": "backgroundColor"
       }
      },
      "id": "0535adbc-b74f-46cc-9cd6-4eabe2477c8e",
      "palette": {
       "backgroundColor": {
        "id": "backgroundColor",
        "rgb": [
         43,
         43,
         43
        ]
       },
       "headingColor": {
        "id": "headingColor",
        "rgb": [
         238,
         238,
         238
        ]
       },
       "linkColor": {
        "id": "linkColor",
        "rgb": [
         19,
         218,
         236
        ]
       },
       "mainColor": {
        "id": "mainColor",
        "rgb": [
         238,
         238,
         238
        ]
       }
      },
      "rules": {
       "a": {
        "color": "linkColor"
       },
       "h1": {
        "color": "headingColor",
        "font-family": "Oswald",
        "font-size": 7
       },
       "h2": {
        "color": "headingColor",
        "font-family": "Oswald",
        "font-size": 5
       },
       "h3": {
        "color": "headingColor",
        "font-family": "Oswald",
        "font-size": 3.75
       },
       "h4": {
        "color": "headingColor",
        "font-family": "Oswald",
        "font-size": 3
       },
       "h5": {
        "color": "headingColor",
        "font-family": "Oswald"
       },
       "h6": {
        "color": "headingColor",
        "font-family": "Oswald"
       },
       "h7": {
        "color": "headingColor",
        "font-family": "Oswald"
       },
       "li": {
        "color": "mainColor",
        "font-family": "Lato",
        "font-size": 5
       },
       "p": {
        "color": "mainColor",
        "font-family": "Lato",
        "font-size": 5
       }
      },
      "text-base": {
       "color": "mainColor",
       "font-family": "Lato",
       "font-size": 5
      }
     },
     "cc59980f-cb69-400a-b63a-1fb85ca73c8a": {
      "backgrounds": {
       "dc7afa04-bf90-40b1-82a5-726e3cff5267": {
        "background-color": "31af15d2-7e15-44c5-ab5e-e04b16a89eff",
        "id": "dc7afa04-bf90-40b1-82a5-726e3cff5267"
       }
      },
      "id": "cc59980f-cb69-400a-b63a-1fb85ca73c8a",
      "palette": {
       "19cc588f-0593-49c9-9f4b-e4d7cc113b1c": {
        "id": "19cc588f-0593-49c9-9f4b-e4d7cc113b1c",
        "rgb": [
         252,
         252,
         252
        ]
       },
       "31af15d2-7e15-44c5-ab5e-e04b16a89eff": {
        "id": "31af15d2-7e15-44c5-ab5e-e04b16a89eff",
        "rgb": [
         68,
         68,
         68
        ]
       },
       "50f92c45-a630-455b-aec3-788680ec7410": {
        "id": "50f92c45-a630-455b-aec3-788680ec7410",
        "rgb": [
         197,
         226,
         245
        ]
       },
       "c5cc3653-2ee1-402a-aba2-7caae1da4f6c": {
        "id": "c5cc3653-2ee1-402a-aba2-7caae1da4f6c",
        "rgb": [
         43,
         126,
         184
        ]
       },
       "efa7f048-9acb-414c-8b04-a26811511a21": {
        "id": "efa7f048-9acb-414c-8b04-a26811511a21",
        "rgb": [
         25.118061674008803,
         73.60176211453744,
         107.4819383259912
        ]
       }
      },
      "rules": {
       "a": {
        "color": "19cc588f-0593-49c9-9f4b-e4d7cc113b1c"
       },
       "blockquote": {
        "color": "50f92c45-a630-455b-aec3-788680ec7410",
        "font-size": 3
       },
       "code": {
        "font-family": "Anonymous Pro"
       },
       "h1": {
        "color": "19cc588f-0593-49c9-9f4b-e4d7cc113b1c",
        "font-family": "Merriweather",
        "font-size": 8
       },
       "h2": {
        "color": "19cc588f-0593-49c9-9f4b-e4d7cc113b1c",
        "font-family": "Merriweather",
        "font-size": 6
       },
       "h3": {
        "color": "50f92c45-a630-455b-aec3-788680ec7410",
        "font-family": "Lato",
        "font-size": 5.5
       },
       "h4": {
        "color": "c5cc3653-2ee1-402a-aba2-7caae1da4f6c",
        "font-family": "Lato",
        "font-size": 5
       },
       "h5": {
        "font-family": "Lato"
       },
       "h6": {
        "font-family": "Lato"
       },
       "h7": {
        "font-family": "Lato"
       },
       "li": {
        "color": "50f92c45-a630-455b-aec3-788680ec7410",
        "font-size": 3.25
       },
       "pre": {
        "font-family": "Anonymous Pro",
        "font-size": 4
       }
      },
      "text-base": {
       "color": "19cc588f-0593-49c9-9f4b-e4d7cc113b1c",
       "font-family": "Lato",
       "font-size": 4
      }
     }
    }
   }
  }
 },
 "nbformat": 4,
 "nbformat_minor": 0
}
