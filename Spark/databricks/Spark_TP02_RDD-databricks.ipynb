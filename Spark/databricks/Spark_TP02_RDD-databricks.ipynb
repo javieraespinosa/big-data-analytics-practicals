{
 "cells": [
  {
   "cell_type": "code",
   "execution_count": 0,
   "metadata": {
    "application/vnd.databricks.v1+cell": {
     "cellMetadata": {
      "byteLimit": 2048000,
      "rowLimit": 10000
     },
     "inputWidgets": {},
     "nuid": "ec922893-ddf1-4839-b037-bdc98995142d",
     "showTitle": false,
     "tableResultSettingsMap": {},
     "title": ""
    },
    "id": "DOxc_eyVigJp"
   },
   "outputs": [],
   "source": [
    "!git clone https://github.com/javieraespinosa/big-data-analytics-practicals.git"
   ]
  },
  {
   "cell_type": "code",
   "execution_count": 0,
   "metadata": {
    "application/vnd.databricks.v1+cell": {
     "cellMetadata": {
      "byteLimit": 2048000,
      "rowLimit": 10000
     },
     "inputWidgets": {},
     "nuid": "fcf5fd32-fbae-4d9e-ae05-c8d2c66c0e77",
     "showTitle": false,
     "tableResultSettingsMap": {},
     "title": ""
    },
    "id": "JS8WnRm8ii2S"
   },
   "outputs": [],
   "source": [
    "%cd big-data-analytics-practicals/data \n",
    "%ls -d $PWD/*\n",
    "%cd ../.."
   ]
  },
  {
   "cell_type": "code",
   "execution_count": 0,
   "metadata": {
    "application/vnd.databricks.v1+cell": {
     "cellMetadata": {
      "byteLimit": 2048000,
      "rowLimit": 10000
     },
     "inputWidgets": {},
     "nuid": "f7ef3ff7-ea30-4c24-943e-39bed90ef575",
     "showTitle": false,
     "tableResultSettingsMap": {},
     "title": ""
    }
   },
   "outputs": [],
   "source": [
    "dbutils.fs.cp(\"file:///databricks/driver/big-data-analytics-practicals/data/appl_stock.csv\", \"dbfs:/appl_stock.csv\")\n",
    "dbutils.fs.cp(\"file:///databricks/driver/big-data-analytics-practicals/data/sales_info.csv\", \"dbfs:/sales_info.csv\")\n",
    "dbutils.fs.cp(\"file:///databricks/driver/big-data-analytics-practicals/data/wash_dc_crime_incidents_2013.csv\", \"dbfs:/wash_dc_crime_incidents_2013.csv\")"
   ]
  },
  {
   "cell_type": "code",
   "execution_count": 0,
   "metadata": {
    "application/vnd.databricks.v1+cell": {
     "cellMetadata": {
      "byteLimit": 2048000,
      "rowLimit": 10000
     },
     "inputWidgets": {},
     "nuid": "7a1ca4ff-0a25-4740-9d5d-3871c6a3a1d3",
     "showTitle": false,
     "tableResultSettingsMap": {},
     "title": ""
    },
    "id": "z74cxzrcilHG"
   },
   "outputs": [],
   "source": [
    "sc = spark.sparkContext\n",
    "sc"
   ]
  },
  {
   "cell_type": "markdown",
   "metadata": {
    "application/vnd.databricks.v1+cell": {
     "cellMetadata": {},
     "inputWidgets": {},
     "nuid": "816e5571-60aa-4247-a4aa-2a621ded5a0d",
     "showTitle": false,
     "tableResultSettingsMap": {},
     "title": ""
    },
    "id": "kjpjW8Z6ieqe"
   },
   "source": [
    "# TP RDD"
   ]
  },
  {
   "cell_type": "markdown",
   "metadata": {
    "application/vnd.databricks.v1+cell": {
     "cellMetadata": {},
     "inputWidgets": {},
     "nuid": "fc653408-c7e5-44b4-b075-4e7842626c55",
     "showTitle": false,
     "tableResultSettingsMap": {},
     "title": ""
    },
    "id": "sZOnlEYgieqi"
   },
   "source": [
    "Dans cet atelier, nous allons explorer certains les concepts de RDD que nous avons abordés. Nous utiliserons un ensemble de données comprenant les crimes signalés à Washington, du 3 octobre 2015 au 2 octobre 2016. Ces données proviennent du catalogue de données ouvertes du district de Columbia. Nous utiliserons ces données pour explorer certaines transformations et actions sur les RDD et les pairs RDD.\n",
    "https://github.com/frankieliu/databricks2/blob/master/wash_dc_crime_incidents_2013.csv"
   ]
  },
  {
   "cell_type": "markdown",
   "metadata": {
    "application/vnd.databricks.v1+cell": {
     "cellMetadata": {},
     "inputWidgets": {},
     "nuid": "11b3687a-39a6-4409-8249-67ea14dd0416",
     "showTitle": false,
     "tableResultSettingsMap": {},
     "title": ""
    },
    "id": "ox24_iRYieqj"
   },
   "source": [
    "Nous pouvons à présent commencer le TP."
   ]
  },
  {
   "cell_type": "markdown",
   "metadata": {
    "application/vnd.databricks.v1+cell": {
     "cellMetadata": {},
     "inputWidgets": {},
     "nuid": "dab203b8-e3a6-4bce-b806-cac77ca6f2ec",
     "showTitle": false,
     "tableResultSettingsMap": {},
     "title": ""
    },
    "id": "bAKSiSJhieqo"
   },
   "source": [
    "## Créer un RDD"
   ]
  },
  {
   "cell_type": "markdown",
   "metadata": {
    "application/vnd.databricks.v1+cell": {
     "cellMetadata": {},
     "inputWidgets": {},
     "nuid": "ae09d24f-54d7-499b-bc6c-f44855cb56cf",
     "showTitle": false,
     "tableResultSettingsMap": {},
     "title": ""
    },
    "id": "WxWm0Gq_ieqp"
   },
   "source": [
    "La première étape consiste à charger les données.\n",
    "Exécutez la cellule suivante pour créer un RDD contenant les données."
   ]
  },
  {
   "cell_type": "code",
   "execution_count": 0,
   "metadata": {
    "application/vnd.databricks.v1+cell": {
     "cellMetadata": {
      "byteLimit": 2048000,
      "rowLimit": 10000
     },
     "inputWidgets": {},
     "nuid": "4aba03f4-6a68-436c-bd4f-0a71b3b97af3",
     "showTitle": false,
     "tableResultSettingsMap": {},
     "title": ""
    },
    "id": "6tKpONXfieqp",
    "tags": []
   },
   "outputs": [],
   "source": [
    "myRdd =  sc.textFile(\"wash_dc_crime_incidents_2013.csv\")"
   ]
  },
  {
   "cell_type": "markdown",
   "metadata": {
    "application/vnd.databricks.v1+cell": {
     "cellMetadata": {},
     "inputWidgets": {},
     "nuid": "93afe413-0a3b-4b60-8a73-49cc4b64fe7f",
     "showTitle": false,
     "tableResultSettingsMap": {},
     "title": ""
    },
    "id": "wT9GIDtgieqp"
   },
   "source": [
    "La lecture d'un fichier n'est pas une action et par conséquent aucun traitement sera effectué.\n",
    "\n",
    "Comptez le nombre de ligne contenu dans le RDD `myRDD` :"
   ]
  },
  {
   "cell_type": "code",
   "execution_count": 0,
   "metadata": {
    "application/vnd.databricks.v1+cell": {
     "cellMetadata": {
      "byteLimit": 2048000,
      "rowLimit": 10000
     },
     "inputWidgets": {},
     "nuid": "25496a6c-5b28-4ce6-872f-41c28c86d2e9",
     "showTitle": false,
     "tableResultSettingsMap": {},
     "title": ""
    },
    "id": "YFuXBOlOieqq"
   },
   "outputs": [],
   "source": [
    "myRdd.count()"
   ]
  },
  {
   "cell_type": "markdown",
   "metadata": {
    "application/vnd.databricks.v1+cell": {
     "cellMetadata": {},
     "inputWidgets": {},
     "nuid": "815addc2-f190-4d36-9905-7d769ce815e9",
     "showTitle": false,
     "tableResultSettingsMap": {},
     "title": ""
    },
    "id": "Gm41BNj2ieqq"
   },
   "source": [
    "## Exploration des données"
   ]
  },
  {
   "cell_type": "markdown",
   "metadata": {
    "application/vnd.databricks.v1+cell": {
     "cellMetadata": {},
     "inputWidgets": {},
     "nuid": "4914708b-bfc5-4783-ac0b-23470b13dd31",
     "showTitle": false,
     "tableResultSettingsMap": {},
     "title": ""
    },
    "id": "1FDij55dieqq"
   },
   "source": [
    "Voyons quelques-unes des données."
   ]
  },
  {
   "cell_type": "code",
   "execution_count": 0,
   "metadata": {
    "application/vnd.databricks.v1+cell": {
     "cellMetadata": {},
     "inputWidgets": {},
     "nuid": "501da873-d3fb-46ed-a82e-b57c9c23c18a",
     "showTitle": false,
     "tableResultSettingsMap": {},
     "title": ""
    },
    "id": "Pt3jOEpeieqq"
   },
   "outputs": [],
   "source": [
    "# Affichez les 5 premières lignes du RDD \"myRdd\"\n"
   ]
  },
  {
   "cell_type": "markdown",
   "metadata": {
    "application/vnd.databricks.v1+cell": {
     "cellMetadata": {},
     "inputWidgets": {},
     "nuid": "c7093f23-f170-4c51-ad40-1efe96bf6399",
     "showTitle": false,
     "tableResultSettingsMap": {},
     "title": ""
    },
    "id": "fW9ZrwdEieqr"
   },
   "source": [
    "Super, comme vous pouvez le constater il y a un en-tête.\n",
    "Cet en-tête est fourni au début du fichier, cela signifie qu'une seul partition disposera de l'en-tête.\n",
    "Pour effectuer un traitement homogène sur l'ensemble des données, nous devrons vérifier si le bloc en cours de traitement a un en-tête.\n",
    "Quand le fichier taille des Go voir de To de données, cette vérification peut vite devenir coûteuse, c'est pourquoi on préfère traiter les données sans en-tête.\n",
    "\n",
    "Trouvez une solution pour supprimer l'en-tête :\n",
    "\n",
    "Indice: utilisez la method filter de l'API RDD.\n",
    "\n",
    "https://spark.apache.org/docs/latest/api/python/pyspark.html?"
   ]
  },
  {
   "cell_type": "code",
   "execution_count": 0,
   "metadata": {
    "application/vnd.databricks.v1+cell": {
     "cellMetadata": {},
     "inputWidgets": {},
     "nuid": "0c27544b-f372-41b8-8ff4-33b88794c9ef",
     "showTitle": false,
     "tableResultSettingsMap": {},
     "title": ""
    },
    "id": "OpDeWqhZieqr"
   },
   "outputs": [],
   "source": [
    "# indiquer le traitement à effectuer pour supprimer l'en-tête\n",
    "# nous appelerons le RDD sans en-tête \"noHeaderRdd\"\n"
   ]
  },
  {
   "cell_type": "markdown",
   "metadata": {
    "application/vnd.databricks.v1+cell": {
     "cellMetadata": {},
     "inputWidgets": {},
     "nuid": "9adde69f-21aa-4603-b4bd-18863f90ab4d",
     "showTitle": false,
     "tableResultSettingsMap": {},
     "title": ""
    },
    "id": "mG1VNlK6ieqr"
   },
   "source": [
    "Sauvegarder les données sans l'entête sous le nom de fichier wash_dc_crime_incidents_2013_without_header.csv"
   ]
  },
  {
   "cell_type": "code",
   "execution_count": 0,
   "metadata": {
    "application/vnd.databricks.v1+cell": {
     "cellMetadata": {},
     "inputWidgets": {},
     "nuid": "2f63929c-f12a-416f-9b06-35b9e24f125a",
     "showTitle": false,
     "tableResultSettingsMap": {},
     "title": ""
    },
    "id": "Bs5Sp_tfieqr"
   },
   "outputs": [],
   "source": [
    "noHeaderRdd.saveAsTextFile('wash_dc_crime_incidents_2013_without_header.csv')"
   ]
  },
  {
   "cell_type": "markdown",
   "metadata": {
    "application/vnd.databricks.v1+cell": {
     "cellMetadata": {},
     "inputWidgets": {},
     "nuid": "268d4b76-b18e-4e29-9588-f527dc4193a0",
     "showTitle": false,
     "tableResultSettingsMap": {},
     "title": ""
    },
    "id": "LICvWhE_ieqs"
   },
   "source": [
    "A partir du fichier sans entête, découper les lignes en cellules individuelles.\n",
    "\n",
    "Nous appelerons le RDD resultant de cette transformation \"CrimeData\".\n"
   ]
  },
  {
   "cell_type": "code",
   "execution_count": 0,
   "metadata": {
    "application/vnd.databricks.v1+cell": {
     "cellMetadata": {},
     "inputWidgets": {},
     "nuid": "89ea88b3-67b2-4d31-839e-81f02e778c53",
     "showTitle": false,
     "tableResultSettingsMap": {},
     "title": ""
    },
    "id": "a0MJp95kieqs"
   },
   "outputs": [],
   "source": [
    "# Complétez le code\n"
   ]
  },
  {
   "cell_type": "markdown",
   "metadata": {
    "application/vnd.databricks.v1+cell": {
     "cellMetadata": {},
     "inputWidgets": {},
     "nuid": "eef67f96-1c01-401c-8583-5bc17e5719ea",
     "showTitle": false,
     "tableResultSettingsMap": {},
     "title": ""
    },
    "id": "zWyPJs4Dieqs"
   },
   "source": [
    "La réprésentation des données laisse à désirer sans la schéma des données.\n",
    "En python, on peut associer des noms à chaque valeur du tuple avec le module namedtuple :"
   ]
  },
  {
   "cell_type": "code",
   "execution_count": 0,
   "metadata": {
    "application/vnd.databricks.v1+cell": {
     "cellMetadata": {},
     "inputWidgets": {},
     "nuid": "ba316b9c-34a6-4bda-98d4-271784504bd3",
     "showTitle": false,
     "tableResultSettingsMap": {},
     "title": ""
    },
    "id": "GkuBKJPYieqt"
   },
   "outputs": [],
   "source": [
    "from collections import namedtuple\n",
    "\n",
    "CrimeDataTuple = namedtuple('CrimeData', ['date_string', 'time_string', 'offense', 'latitude', 'longitude'])\n",
    "\n",
    "def map_line(line):\n",
    "  cols = line.split(\",\")\n",
    "  return CrimeDataTuple(date_string=cols[10], time_string=cols[11], offense=cols[3], latitude=cols[7], longitude=cols[8])\n",
    "\n",
    "CrimeDataT = noHeaderRdd.map(map_line)\n",
    "\n",
    "CrimeDataT.take(10)"
   ]
  },
  {
   "cell_type": "markdown",
   "metadata": {
    "application/vnd.databricks.v1+cell": {
     "cellMetadata": {},
     "inputWidgets": {},
     "nuid": "d8eb4b0c-cbee-4b4f-ae45-f6d46073c515",
     "showTitle": false,
     "tableResultSettingsMap": {},
     "title": ""
    },
    "id": "YhdUTncdiequ"
   },
   "source": [
    "On obtient une liste de tuple plus lisible.\n",
    "\n",
    "A présent, regroupez les données par type de crime (OFFENSE)"
   ]
  },
  {
   "cell_type": "code",
   "execution_count": 0,
   "metadata": {
    "application/vnd.databricks.v1+cell": {
     "cellMetadata": {},
     "inputWidgets": {},
     "nuid": "950e4e34-0933-490c-8f7e-fd1cf0c44516",
     "showTitle": false,
     "tableResultSettingsMap": {},
     "title": ""
    },
    "id": "j5750SBOiequ"
   },
   "outputs": [],
   "source": [
    "# Nous utiliserons la methode groupBY\n"
   ]
  },
  {
   "cell_type": "code",
   "execution_count": 0,
   "metadata": {
    "application/vnd.databricks.v1+cell": {
     "cellMetadata": {},
     "inputWidgets": {},
     "nuid": "d2d83626-bc09-4add-b29b-26206f45b27b",
     "showTitle": false,
     "tableResultSettingsMap": {},
     "title": ""
    },
    "id": "Ldcan1oYieqv"
   },
   "outputs": [],
   "source": [
    "#Affichez les 5 premiers éléments :\n"
   ]
  },
  {
   "cell_type": "markdown",
   "metadata": {
    "application/vnd.databricks.v1+cell": {
     "cellMetadata": {},
     "inputWidgets": {},
     "nuid": "1ee25d0d-8e04-4935-95de-f763b35e3510",
     "showTitle": false,
     "tableResultSettingsMap": {},
     "title": ""
    },
    "id": "3PZLta4sieqv"
   },
   "source": [
    "Ensuite, créez un RDD qui compte le nombre de chaque infraction (OFFENSE)."
   ]
  },
  {
   "cell_type": "code",
   "execution_count": 0,
   "metadata": {
    "application/vnd.databricks.v1+cell": {
     "cellMetadata": {},
     "inputWidgets": {},
     "nuid": "2add3914-2d84-4d83-af6b-176e4486ca6f",
     "showTitle": false,
     "tableResultSettingsMap": {},
     "title": ""
    },
    "id": "gHqE7-lCieqw"
   },
   "outputs": [],
   "source": [
    "#Indice : utilisez la méthode map sur le RDD pair obtenu précédement avec la function len\n"
   ]
  },
  {
   "cell_type": "markdown",
   "metadata": {
    "application/vnd.databricks.v1+cell": {
     "cellMetadata": {},
     "inputWidgets": {},
     "nuid": "c752ce4e-1915-40a6-87e3-5733affa4b58",
     "showTitle": false,
     "tableResultSettingsMap": {},
     "title": ""
    },
    "id": "Ja16zEgHieqw"
   },
   "source": [
    "A partir du RDD CrimeDataT, répéter l'opération de comptage des OFFENSES avec la méthode RDD groupByKey :"
   ]
  },
  {
   "cell_type": "code",
   "execution_count": 0,
   "metadata": {
    "application/vnd.databricks.v1+cell": {
     "cellMetadata": {},
     "inputWidgets": {},
     "nuid": "0874e2e3-ec14-4ac2-ab51-17e63df65e2c",
     "showTitle": false,
     "tableResultSettingsMap": {},
     "title": ""
    },
    "id": "r62PKxgzieqx"
   },
   "outputs": [],
   "source": [
    "#Indice : utilisez la méthode map sur le RDD pair obtenu précédement avec la function len\n"
   ]
  },
  {
   "cell_type": "markdown",
   "metadata": {
    "application/vnd.databricks.v1+cell": {
     "cellMetadata": {},
     "inputWidgets": {},
     "nuid": "cf9fbfc2-3e53-4bcc-96e0-f24f8cc40432",
     "showTitle": false,
     "tableResultSettingsMap": {},
     "title": ""
    },
    "id": "EU_YvUC5ieqx"
   },
   "source": [
    "Combien de meurtres (homicide) y a-t-il eu pendant la période couverte par les données?\n",
    "\n",
    "Attention votre traitement devra être insensible à la casse"
   ]
  },
  {
   "cell_type": "code",
   "execution_count": 0,
   "metadata": {
    "application/vnd.databricks.v1+cell": {
     "cellMetadata": {},
     "inputWidgets": {},
     "nuid": "097cee77-8309-4f82-afc4-c28c508c73d2",
     "showTitle": false,
     "tableResultSettingsMap": {},
     "title": ""
    },
    "id": "4VIBNNTjieqy"
   },
   "outputs": [],
   "source": [
    "# utilisez le RDD CrimeDataT pour compter le nombre d'homicide\n",
    "# votre traitement devra être insensible à la maniére dont est ecrit homicide\n",
    "# Vous devrez utiliser effectuer le comptage avec la méthode reduceByKey\n",
    "# Vous afficherez le résultat de votre RDD homicide_count\n"
   ]
  },
  {
   "cell_type": "markdown",
   "metadata": {
    "application/vnd.databricks.v1+cell": {
     "cellMetadata": {},
     "inputWidgets": {},
     "nuid": "85e7296a-d827-4d91-b76e-3469cc31c479",
     "showTitle": false,
     "tableResultSettingsMap": {},
     "title": ""
    },
    "id": "eugjZBGpieqz"
   },
   "source": [
    "Affichez le top 5 des crimes :"
   ]
  },
  {
   "cell_type": "code",
   "execution_count": 0,
   "metadata": {
    "application/vnd.databricks.v1+cell": {
     "cellMetadata": {},
     "inputWidgets": {},
     "nuid": "ac63e8e7-8dc3-4be2-827d-e0172c314360",
     "showTitle": false,
     "tableResultSettingsMap": {},
     "title": ""
    },
    "id": "91GGxmRMieqz"
   },
   "outputs": [],
   "source": []
  },
  {
   "cell_type": "markdown",
   "metadata": {
    "application/vnd.databricks.v1+cell": {
     "cellMetadata": {},
     "inputWidgets": {},
     "nuid": "83442e7e-5fd3-49e2-82f2-36976990fa52",
     "showTitle": false,
     "tableResultSettingsMap": {},
     "title": ""
    },
    "id": "V3SN9Fycieqz"
   },
   "source": [
    "Vous pouvez à présent fermer le SparkContext."
   ]
  },
  {
   "cell_type": "code",
   "execution_count": 0,
   "metadata": {
    "application/vnd.databricks.v1+cell": {
     "cellMetadata": {},
     "inputWidgets": {},
     "nuid": "fbf92e7d-eed3-4f68-ba20-94944ced6d3f",
     "showTitle": false,
     "tableResultSettingsMap": {},
     "title": ""
    },
    "id": "VRFMx0Rgieqz"
   },
   "outputs": [],
   "source": [
    "sc.stop()"
   ]
  },
  {
   "cell_type": "code",
   "execution_count": 0,
   "metadata": {
    "application/vnd.databricks.v1+cell": {
     "cellMetadata": {},
     "inputWidgets": {},
     "nuid": "26a513f9-4925-4b08-8c43-e80704349ab4",
     "showTitle": false,
     "tableResultSettingsMap": {},
     "title": ""
    },
    "id": "lI6CJLVMieq0"
   },
   "outputs": [],
   "source": []
  }
 ],
 "metadata": {
  "application/vnd.databricks.v1+notebook": {
   "dashboards": [],
   "environmentMetadata": null,
   "language": "python",
   "notebookMetadata": {
    "pythonIndentUnit": 2
   },
   "notebookName": "Spark_TP02_RDD-databricks",
   "widgets": {}
  },
  "colab": {
   "provenance": []
  },
  "kernelspec": {
   "display_name": "Python 3 (ipykernel)",
   "language": "python",
   "name": "python3"
  },
  "language_info": {
   "codemirror_mode": {
    "name": "ipython",
    "version": 3
   },
   "file_extension": ".py",
   "mimetype": "text/x-python",
   "name": "python",
   "nbconvert_exporter": "python",
   "pygments_lexer": "ipython3",
   "version": "3.7.10"
  }
 },
 "nbformat": 4,
 "nbformat_minor": 0
}
