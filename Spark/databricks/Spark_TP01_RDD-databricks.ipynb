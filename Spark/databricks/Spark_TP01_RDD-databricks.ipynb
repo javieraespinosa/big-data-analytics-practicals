{
 "cells": [
  {
   "cell_type": "code",
   "execution_count": 0,
   "metadata": {
    "application/vnd.databricks.v1+cell": {
     "cellMetadata": {
      "byteLimit": 2048000,
      "rowLimit": 10000
     },
     "inputWidgets": {},
     "nuid": "0700dcc5-0740-4ca5-bee0-3c686320df44",
     "showTitle": false,
     "tableResultSettingsMap": {},
     "title": ""
    },
    "id": "On8P90bsfLxw"
   },
   "outputs": [],
   "source": [
    "!git clone https://github.com/javieraespinosa/big-data-analytics-practicals.git"
   ]
  },
  {
   "cell_type": "code",
   "execution_count": 0,
   "metadata": {
    "application/vnd.databricks.v1+cell": {
     "cellMetadata": {
      "byteLimit": 2048000,
      "rowLimit": 10000
     },
     "inputWidgets": {},
     "nuid": "f57c1f28-715c-412a-9bcd-9054eceaef67",
     "showTitle": false,
     "tableResultSettingsMap": {},
     "title": ""
    }
   },
   "outputs": [],
   "source": [
    "%cd big-data-analytics-practicals/data \n",
    "%ls -d $PWD/*\n",
    "%cd ../.."
   ]
  },
  {
   "cell_type": "code",
   "execution_count": 0,
   "metadata": {
    "application/vnd.databricks.v1+cell": {
     "cellMetadata": {
      "byteLimit": 2048000,
      "rowLimit": 10000
     },
     "inputWidgets": {},
     "nuid": "8b7674bb-0ad9-4d20-a41e-09de489b4831",
     "showTitle": false,
     "tableResultSettingsMap": {},
     "title": ""
    }
   },
   "outputs": [],
   "source": [
    "dbutils.fs.cp(\"file:///databricks/driver/big-data-analytics-practicals/data/appl_stock.csv\", \"dbfs:/appl_stock.csv\")\n",
    "dbutils.fs.cp(\"file:///databricks/driver/big-data-analytics-practicals/data/sales_info.csv\", \"dbfs:/sales_info.csv\")"
   ]
  },
  {
   "cell_type": "code",
   "execution_count": 0,
   "metadata": {
    "application/vnd.databricks.v1+cell": {
     "cellMetadata": {
      "byteLimit": 2048000,
      "rowLimit": 10000
     },
     "inputWidgets": {},
     "nuid": "d61d370f-f3b1-4496-9926-79c4dd9554cc",
     "showTitle": false,
     "tableResultSettingsMap": {},
     "title": ""
    },
    "id": "uWEJ0EIPfRYY"
   },
   "outputs": [],
   "source": [
    "sc = spark.sparkContext\n",
    "sc"
   ]
  },
  {
   "cell_type": "markdown",
   "metadata": {
    "application/vnd.databricks.v1+cell": {
     "cellMetadata": {
      "byteLimit": 2048000,
      "rowLimit": 10000
     },
     "inputWidgets": {},
     "nuid": "f4ef272f-56c3-4224-a617-c4855adeca59",
     "showTitle": false,
     "tableResultSettingsMap": {},
     "title": ""
    },
    "id": "XiehFiShe851",
    "tags": []
   },
   "source": [
    "# Introduction à SPARK"
   ]
  },
  {
   "cell_type": "markdown",
   "metadata": {
    "application/vnd.databricks.v1+cell": {
     "cellMetadata": {
      "byteLimit": 2048000,
      "rowLimit": 10000
     },
     "inputWidgets": {},
     "nuid": "19aa59da-ac25-4d0b-b36b-8622fb645776",
     "showTitle": false,
     "tableResultSettingsMap": {},
     "title": ""
    },
    "id": "PTA0HPSOe853"
   },
   "source": [
    "## 1 Présentation\n",
    "\n",
    "SPARK est un framework qui peut fonctionner de manière autonome ou être intégré à un cluster hadoop.\n",
    "Ce qui est intéressant avec SPARK, le développeur peut se concentrer sur son application métier sans se soucier des problématiques lié aux traitements distribués.\n",
    "\n",
    "Vous pouvez voir  SPARK comme une machine virtuelle composée de nombreuses ressources informatiques (CPU et RAM) qui exécute votre code.\n",
    "\n",
    "Pour rendre transparente la logique cachée derrière l'informatique distribuée, SPARK utilise le concept de Resilient Distributed Dataset (RDD).\n",
    "Un RDD est une API qui vous permet d'interagir avec vos données de manière unifiée et fournit de nombreuses fonctions pour faciliter la programmation.\n",
    "\n",
    "Nous pouvons diviser l'API RDD en deux parties:\n",
    "* Transformation:\n",
    "Comme son nom l'indique, une transformation est un moyen de transformer vos données en quelque chose d'autre. Par exemple, si vous devez filtrer des données, nous transformons la source de données en filtrant les données, ce qui donnera un nouveau RDD.\n",
    "Notez qu'une source de données (RDD) est immuable, vous ne pouvez donc pas en modifier le contenu. Pour modifier un RDD, l'astuce est d'appliquer vos modifications via des transformations qui seront contenues dans un nouveau RDD que vous pourrez sauvegarder.\n",
    "La liste des transformations possibles est disponible sur le site d'apache Spark :\n",
    "https://spark.apache.org/docs/latest/rdd-programming-guide.html#transformations\n",
    "\n",
    "* Action :\n",
    "SPARK est fénéant/lazyness, cela signifie que SPARK ne fait rien tant que le programme n’exécute pas une  action. Par exemple, la fonction count()  est une action qui comptabilie le nombre de n-uplets dans le RDD.\n",
    "Vous trouverez l'ensemble des actions possibles sur le site de Spark :\n",
    "https://spark.apache.org/docs/latest/rdd-programming-guide.html#actions\n",
    "\n",
    "Ce laboratoire vous présentera comment développer une application SPARK avec Python.\n",
    "La librairie python pour Spark est détaillée ici :\n",
    "https://spark.apache.org/docs/2.1.0/api/python/pyspark.html#pyspark.RDD\n",
    "\n",
    "Bien entendu, vous pouvez consulter le site Web de SPARK pour obtenir plus de détails: https://spark.apache.org/docs/latest/index.html\n",
    "\n",
    "\n",
    "Alors, commençons maintenant quelques exemples pour devenir familier avec SPARK\n",
    "\n",
    "Dans ce TP, nous explorerons les transformations et actions courantes fournies par Spark:"
   ]
  },
  {
   "cell_type": "markdown",
   "metadata": {
    "application/vnd.databricks.v1+cell": {
     "cellMetadata": {
      "byteLimit": 2048000,
      "rowLimit": 10000
     },
     "inputWidgets": {},
     "nuid": "d18371f6-c375-4550-9521-3b17aeaf8587",
     "showTitle": false,
     "tableResultSettingsMap": {},
     "title": ""
    },
    "id": "A76Y-4ige858"
   },
   "source": [
    "## 2 - Débuter avec Spark"
   ]
  },
  {
   "cell_type": "markdown",
   "metadata": {
    "application/vnd.databricks.v1+cell": {
     "cellMetadata": {
      "byteLimit": 2048000,
      "rowLimit": 10000
     },
     "inputWidgets": {},
     "nuid": "fc94461d-03a0-4ee7-b7a5-32e4ed433f67",
     "showTitle": false,
     "tableResultSettingsMap": {},
     "title": ""
    },
    "id": "LIRPPep5e858"
   },
   "source": [
    "Pour faciliter la prise en main de Spark, nous allons travailler avec de petits jeux de données.\n",
    "Nous utiliserons des RDD contenant de 1 à 5 valeurs numériques mais il faut considérer que chaque valeur peut être une ligne d'un fichier.\n",
    "\n",
    "### Collect / take / first / last\n",
    "\n",
    "Renvoye tous / certains / le premier  éléments du RDD au driver dans une simple liste."
   ]
  },
  {
   "cell_type": "code",
   "execution_count": 0,
   "metadata": {
    "application/vnd.databricks.v1+cell": {
     "cellMetadata": {
      "byteLimit": 2048000,
      "rowLimit": 10000
     },
     "inputWidgets": {},
     "nuid": "ffee8896-2ee3-4854-b35d-e886ac3841eb",
     "showTitle": false,
     "tableResultSettingsMap": {},
     "title": ""
    },
    "id": "M8RAghche859",
    "tags": []
   },
   "outputs": [],
   "source": [
    "nums= sc.parallelize([1,2,3,4,5])\n",
    "print(type(nums))\n",
    "\n",
    "print( 'Collecte tous les éléments', nums.collect())\n",
    "print( 'Collecte une partie des éléments', nums.take(3))\n",
    "print( 'Collecte le 1er élément', nums.first())"
   ]
  },
  {
   "cell_type": "markdown",
   "metadata": {
    "application/vnd.databricks.v1+cell": {
     "cellMetadata": {
      "byteLimit": 2048000,
      "rowLimit": 10000
     },
     "inputWidgets": {},
     "nuid": "d8dd02e1-d229-471c-838c-88e9e649ed4e",
     "showTitle": false,
     "tableResultSettingsMap": {},
     "title": ""
    },
    "id": "eqBufvGle859",
    "tags": []
   },
   "source": [
    "Pair RDDs contain elements that are key-value pairs.  Keys and values can be any type."
   ]
  },
  {
   "cell_type": "markdown",
   "metadata": {
    "application/vnd.databricks.v1+cell": {
     "cellMetadata": {
      "byteLimit": 2048000,
      "rowLimit": 10000
     },
     "inputWidgets": {},
     "nuid": "7d7529c8-7421-4ce9-8a8a-0fbe3e940f5b",
     "showTitle": false,
     "tableResultSettingsMap": {},
     "title": ""
    },
    "id": "ZIm5ykMze859"
   },
   "source": [
    "# Les Transformations"
   ]
  },
  {
   "cell_type": "markdown",
   "metadata": {
    "application/vnd.databricks.v1+cell": {
     "cellMetadata": {
      "byteLimit": 2048000,
      "rowLimit": 10000
     },
     "inputWidgets": {},
     "nuid": "546caf91-4e32-405b-b491-0584d2b93025",
     "showTitle": false,
     "tableResultSettingsMap": {},
     "title": ""
    },
    "id": "GkLMhGCCe859"
   },
   "source": [
    "## MAP"
   ]
  },
  {
   "cell_type": "markdown",
   "metadata": {
    "application/vnd.databricks.v1+cell": {
     "cellMetadata": {
      "byteLimit": 2048000,
      "rowLimit": 10000
     },
     "inputWidgets": {},
     "nuid": "3355a5a8-c384-4956-a225-4b755a8a6149",
     "showTitle": false,
     "tableResultSettingsMap": {},
     "title": ""
    },
    "id": "dD6NjJQze85-"
   },
   "source": [
    "La méthode map prend une fonction en entrée et l'applique à chaque élément du RDD source pour créer un nouveau RDD.\n",
    "La fonction d'entrée doit prendre un seul paramètre d'entrée et renvoyer une valeur."
   ]
  },
  {
   "cell_type": "code",
   "execution_count": 0,
   "metadata": {
    "application/vnd.databricks.v1+cell": {
     "cellMetadata": {
      "byteLimit": 2048000,
      "rowLimit": 10000
     },
     "inputWidgets": {},
     "nuid": "e433cacb-0347-4d06-b80e-7ec4f1bd78eb",
     "showTitle": false,
     "tableResultSettingsMap": {},
     "title": ""
    },
    "id": "tPcApcCoe85-",
    "tags": []
   },
   "outputs": [],
   "source": [
    "nums= sc.parallelize([1,2,3])\n",
    "\n",
    "print(\"Type de nums : \", type(nums))\n",
    "pluOneRDD = nums.map(lambda x : x+1)\n",
    "print(\"plusOneRDD is new RDD\")\n",
    "print(\"Type de pluOneRDD : \", type(pluOneRDD))\n",
    "pluOneRDD.collect()"
   ]
  },
  {
   "cell_type": "markdown",
   "metadata": {
    "application/vnd.databricks.v1+cell": {
     "cellMetadata": {
      "byteLimit": 2048000,
      "rowLimit": 10000
     },
     "inputWidgets": {},
     "nuid": "9a7a2ffc-2501-4560-be59-ddc2f211863f",
     "showTitle": false,
     "tableResultSettingsMap": {},
     "title": ""
    },
    "id": "YSDyrNhse85-"
   },
   "source": [
    "Une autre manière d'écrire ce programme :"
   ]
  },
  {
   "cell_type": "code",
   "execution_count": 0,
   "metadata": {
    "application/vnd.databricks.v1+cell": {
     "cellMetadata": {
      "byteLimit": 2048000,
      "rowLimit": 10000
     },
     "inputWidgets": {},
     "nuid": "f8cb6ae6-adb2-4eae-85c5-e4a3a0574f89",
     "showTitle": false,
     "tableResultSettingsMap": {},
     "title": ""
    },
    "id": "8CVWCsD8e85-",
    "tags": []
   },
   "outputs": [],
   "source": [
    "nums= sc.parallelize([1,2,3])\n",
    "\n",
    "def plus1(x):\n",
    "    if( x > 2 ):\n",
    "        s = x*x\n",
    "    else:\n",
    "        s = 1\n",
    "    return s\n",
    "\n",
    "# on  appelle la fonction plus1 directement dans la phase map\n",
    "pluOneRDD = nums.map(lambda x : plus1(x))\n",
    "\n",
    "print(\"map with lambda function\")\n",
    "print(pluOneRDD.collect())"
   ]
  },
  {
   "cell_type": "markdown",
   "metadata": {
    "application/vnd.databricks.v1+cell": {
     "cellMetadata": {
      "byteLimit": 2048000,
      "rowLimit": 10000
     },
     "inputWidgets": {},
     "nuid": "7c660b97-bd4e-49b7-bf00-b70643a860c1",
     "showTitle": false,
     "tableResultSettingsMap": {},
     "title": ""
    },
    "id": "NUs0aYCLe85_"
   },
   "source": [
    "## Exercice 1"
   ]
  },
  {
   "cell_type": "markdown",
   "metadata": {
    "application/vnd.databricks.v1+cell": {
     "cellMetadata": {
      "byteLimit": 2048000,
      "rowLimit": 10000
     },
     "inputWidgets": {},
     "nuid": "0cfb1bb0-0faa-4c21-a8be-df1c00b65497",
     "showTitle": false,
     "tableResultSettingsMap": {},
     "title": ""
    },
    "id": "UaXr6Lufe85_"
   },
   "source": [
    "Tranformer la collection suivante [“John”, “Fred”, “Anna”, “James”] afin de retourner le nombre de caractères de chaque élément :"
   ]
  },
  {
   "cell_type": "code",
   "execution_count": 0,
   "metadata": {
    "application/vnd.databricks.v1+cell": {
     "cellMetadata": {
      "byteLimit": 2048000,
      "rowLimit": 10000
     },
     "inputWidgets": {},
     "nuid": "2344bf81-c66c-438c-a7f6-a85663ac24ab",
     "showTitle": false,
     "tableResultSettingsMap": {},
     "title": ""
    },
    "id": "yq2cbjkEe85_"
   },
   "outputs": [],
   "source": [
    "x = sc.parallelize([\"John\", \"Fred\", \"Anna\", \"James\"])\n",
    "# Complétez le code\n"
   ]
  },
  {
   "cell_type": "markdown",
   "metadata": {
    "application/vnd.databricks.v1+cell": {
     "cellMetadata": {
      "byteLimit": 2048000,
      "rowLimit": 10000
     },
     "inputWidgets": {},
     "nuid": "98be4ec6-d32c-4c13-a9b6-f001d0cddd1b",
     "showTitle": false,
     "tableResultSettingsMap": {},
     "title": ""
    },
    "id": "3P771gQKe86A"
   },
   "source": [
    "## FILTER"
   ]
  },
  {
   "cell_type": "markdown",
   "metadata": {
    "application/vnd.databricks.v1+cell": {
     "cellMetadata": {
      "byteLimit": 2048000,
      "rowLimit": 10000
     },
     "inputWidgets": {},
     "nuid": "3dae88c3-3382-443b-816a-dc55271ce4b9",
     "showTitle": false,
     "tableResultSettingsMap": {},
     "title": ""
    },
    "id": "fkLx-g7Le86A"
   },
   "source": [
    "Le filtre prend une fonction booléenne en entrée et l'applique à chaque élément du RDD source pour créer un nouveau RDD.\n",
    "Une fonction booléenne prend une entrée et renvoie true ou false.\n",
    "La méthode de filtrage renvoie un nouveau RDD formé en sélectionnant uniquement les éléments pour lesquels la fonction booléenne en entrée a renvoyé la valeur true.\n",
    "Ainsi, le nouveau RDD contient un sous-ensemble des éléments du RDD d'origine."
   ]
  },
  {
   "cell_type": "code",
   "execution_count": 0,
   "metadata": {
    "application/vnd.databricks.v1+cell": {
     "cellMetadata": {
      "byteLimit": 2048000,
      "rowLimit": 10000
     },
     "inputWidgets": {},
     "nuid": "c96e9550-cbd9-486a-8661-636b1835cc97",
     "showTitle": false,
     "tableResultSettingsMap": {},
     "title": ""
    },
    "id": "-ourVos4e86A",
    "tags": []
   },
   "outputs": [],
   "source": [
    "nums= sc.parallelize([1,2,3])\n",
    "myFilteredRDD = nums.filter(lambda x : x > 1)\n",
    "myFilteredRDD.collect()"
   ]
  },
  {
   "cell_type": "markdown",
   "metadata": {
    "application/vnd.databricks.v1+cell": {
     "cellMetadata": {
      "byteLimit": 2048000,
      "rowLimit": 10000
     },
     "inputWidgets": {},
     "nuid": "856e627f-f6dd-4647-b2ef-282590e1a3d8",
     "showTitle": false,
     "tableResultSettingsMap": {},
     "title": ""
    },
    "id": "MHYq2Yjwe86A"
   },
   "source": [
    "## Exercise 2:"
   ]
  },
  {
   "cell_type": "markdown",
   "metadata": {
    "application/vnd.databricks.v1+cell": {
     "cellMetadata": {
      "byteLimit": 2048000,
      "rowLimit": 10000
     },
     "inputWidgets": {},
     "nuid": "ea5cdd3d-7058-4ccf-ab5c-15602f05ed15",
     "showTitle": false,
     "tableResultSettingsMap": {},
     "title": ""
    },
    "id": "lG_h29XVe86B"
   },
   "source": [
    "Changez la collection pour ne conserver que les nombres pairs et calculez le carré:"
   ]
  },
  {
   "cell_type": "code",
   "execution_count": 0,
   "metadata": {
    "application/vnd.databricks.v1+cell": {
     "cellMetadata": {
      "byteLimit": 2048000,
      "rowLimit": 10000
     },
     "inputWidgets": {},
     "nuid": "20728295-d103-46e2-8d4a-c31ecdd48fcb",
     "showTitle": false,
     "tableResultSettingsMap": {},
     "title": ""
    },
    "id": "5GP6GVwBe86B"
   },
   "outputs": [],
   "source": [
    "nums= sc.parallelize([1,2,3])\n",
    "# Complétez le code\n"
   ]
  },
  {
   "cell_type": "markdown",
   "metadata": {
    "application/vnd.databricks.v1+cell": {
     "cellMetadata": {
      "byteLimit": 2048000,
      "rowLimit": 10000
     },
     "inputWidgets": {},
     "nuid": "d9378d2c-d067-4bb3-88ba-970aae4ec6b8",
     "showTitle": false,
     "tableResultSettingsMap": {},
     "title": ""
    },
    "id": "Exzh8FZXe86B"
   },
   "source": [
    "## FLATMAP"
   ]
  },
  {
   "cell_type": "markdown",
   "metadata": {
    "application/vnd.databricks.v1+cell": {
     "cellMetadata": {
      "byteLimit": 2048000,
      "rowLimit": 10000
     },
     "inputWidgets": {},
     "nuid": "ca0d4876-e6c9-4732-8e9d-7254656083b7",
     "showTitle": false,
     "tableResultSettingsMap": {},
     "title": ""
    },
    "id": "GK1FTsYNe86B"
   },
   "source": [
    "FlatMap prend une fonction d'entrée, qui renvoie une séquence pour chaque élément d'entrée qui lui est transmis.\n",
    "La méthode flatMap renvoie un nouveau RDD formé en aplatissant cette collection de séquences."
   ]
  },
  {
   "cell_type": "code",
   "execution_count": 0,
   "metadata": {
    "application/vnd.databricks.v1+cell": {
     "cellMetadata": {
      "byteLimit": 2048000,
      "rowLimit": 10000
     },
     "inputWidgets": {},
     "nuid": "dfb8eae3-a9a1-4ac8-ba58-1fc664a80390",
     "showTitle": false,
     "tableResultSettingsMap": {},
     "title": ""
    },
    "id": "fM5DDN9Me86C",
    "tags": []
   },
   "outputs": [],
   "source": [
    "nums= sc.parallelize([1,2,3])\n",
    "mapRDD = nums.map(lambda x : (x,x*x,x*x*x))\n",
    "flatMapRDD = mapRDD.flatMap(lambda x : x )\n",
    "print(\"Display MapRDD :\")\n",
    "print(mapRDD.collect())\n",
    "\n",
    "print(\"\\nDisplay flatMapRDD :\")\n",
    "print(flatMapRDD.collect())"
   ]
  },
  {
   "cell_type": "markdown",
   "metadata": {
    "application/vnd.databricks.v1+cell": {
     "cellMetadata": {
      "byteLimit": 2048000,
      "rowLimit": 10000
     },
     "inputWidgets": {},
     "nuid": "617d2b50-0fe8-4945-873a-a3e34057b189",
     "showTitle": false,
     "tableResultSettingsMap": {},
     "title": ""
    },
    "id": "tILis3Xqe86C"
   },
   "source": [
    "## Exercice"
   ]
  },
  {
   "cell_type": "markdown",
   "metadata": {
    "application/vnd.databricks.v1+cell": {
     "cellMetadata": {
      "byteLimit": 2048000,
      "rowLimit": 10000
     },
     "inputWidgets": {},
     "nuid": "b47fed4f-9359-404b-ae3e-50c557d9850f",
     "showTitle": false,
     "tableResultSettingsMap": {},
     "title": ""
    },
    "id": "LT5tT_d-e86C"
   },
   "source": [
    "Comptez le nombre de mots contenu dans l'ensemble des lignes faisant référence au \"spam\":\n"
   ]
  },
  {
   "cell_type": "code",
   "execution_count": 0,
   "metadata": {
    "application/vnd.databricks.v1+cell": {
     "cellMetadata": {
      "byteLimit": 2048000,
      "rowLimit": 10000
     },
     "inputWidgets": {},
     "nuid": "2b841bdd-8a9d-49b3-a1ab-3b115b175f40",
     "showTitle": false,
     "tableResultSettingsMap": {},
     "title": ""
    },
    "id": "5kT93tape86C"
   },
   "outputs": [],
   "source": [
    "# Indice: vous utiliserez la fonction flatMap\n",
    "data = sc.parallelize([\"Spark c'est bien\",\"il peut nous aider à trouver les spams\",\"spam viagra.com\"])\n"
   ]
  },
  {
   "cell_type": "markdown",
   "metadata": {
    "application/vnd.databricks.v1+cell": {
     "cellMetadata": {
      "byteLimit": 2048000,
      "rowLimit": 10000
     },
     "inputWidgets": {},
     "nuid": "1d7991ae-61bd-4dc1-8023-8424b12502b7",
     "showTitle": false,
     "tableResultSettingsMap": {},
     "title": ""
    },
    "id": "a5rnEHlXe86C"
   },
   "source": [
    "## UNION"
   ]
  },
  {
   "cell_type": "markdown",
   "metadata": {
    "application/vnd.databricks.v1+cell": {
     "cellMetadata": {
      "byteLimit": 2048000,
      "rowLimit": 10000
     },
     "inputWidgets": {},
     "nuid": "91677a2c-2672-404a-be21-d19f621ceb2a",
     "showTitle": false,
     "tableResultSettingsMap": {},
     "title": ""
    },
    "id": "GsLnsxIje86D"
   },
   "source": [
    "Union prend un RDD en entrée et retourne un nouveau RDD contenant l'union des éléments dans le RDD source et le RDD qui lui est transmis en tant qu'entrée."
   ]
  },
  {
   "cell_type": "code",
   "execution_count": 0,
   "metadata": {
    "application/vnd.databricks.v1+cell": {
     "cellMetadata": {
      "byteLimit": 2048000,
      "rowLimit": 10000
     },
     "inputWidgets": {},
     "nuid": "40c4ce7c-014d-493f-bcdc-e7be0f5895be",
     "showTitle": false,
     "tableResultSettingsMap": {},
     "title": ""
    },
    "id": "CBzFzEeTe86D",
    "tags": []
   },
   "outputs": [],
   "source": [
    "x = sc.parallelize([[1,2],3])\n",
    "y = sc.parallelize([1,2,3])\n",
    "z = x.union(y)\n",
    "z.collect()"
   ]
  },
  {
   "cell_type": "markdown",
   "metadata": {
    "application/vnd.databricks.v1+cell": {
     "cellMetadata": {
      "byteLimit": 2048000,
      "rowLimit": 10000
     },
     "inputWidgets": {},
     "nuid": "d4f65f1a-bb7e-41d2-8c6d-c61d718b9fe7",
     "showTitle": false,
     "tableResultSettingsMap": {},
     "title": ""
    },
    "id": "4z7gRCgDe86D"
   },
   "source": [
    "## INTERSECTION"
   ]
  },
  {
   "cell_type": "markdown",
   "metadata": {
    "application/vnd.databricks.v1+cell": {
     "cellMetadata": {
      "byteLimit": 2048000,
      "rowLimit": 10000
     },
     "inputWidgets": {},
     "nuid": "a8e716c0-765d-4243-a007-0f1a282125e0",
     "showTitle": false,
     "tableResultSettingsMap": {},
     "title": ""
    },
    "id": "bLzqc6LDe86D"
   },
   "source": [
    "La méthode intersection prend un RDD en entrée et retourne un nouveau RDD contenant l'intersection des éléments du RDD source et du RDD qui lui est transmis en tant qu'entrée."
   ]
  },
  {
   "cell_type": "code",
   "execution_count": 0,
   "metadata": {
    "application/vnd.databricks.v1+cell": {
     "cellMetadata": {
      "byteLimit": 2048000,
      "rowLimit": 10000
     },
     "inputWidgets": {},
     "nuid": "dd5bb502-6ca3-485a-b299-cea169293c3a",
     "showTitle": false,
     "tableResultSettingsMap": {},
     "title": ""
    },
    "id": "A_xGXCCse86D",
    "tags": []
   },
   "outputs": [],
   "source": [
    "x = sc.parallelize([1,2,3])\n",
    "y = sc.parallelize([4,6,3])\n",
    "z = x.intersection(y)\n",
    "z.collect()"
   ]
  },
  {
   "cell_type": "markdown",
   "metadata": {
    "application/vnd.databricks.v1+cell": {
     "cellMetadata": {
      "byteLimit": 2048000,
      "rowLimit": 10000
     },
     "inputWidgets": {},
     "nuid": "a9d526df-2017-47bf-bdbe-a4f311a15344",
     "showTitle": false,
     "tableResultSettingsMap": {},
     "title": ""
    },
    "id": "EZI7_Dfye86E"
   },
   "source": [
    "## La transformation subtract"
   ]
  },
  {
   "cell_type": "markdown",
   "metadata": {
    "application/vnd.databricks.v1+cell": {
     "cellMetadata": {
      "byteLimit": 2048000,
      "rowLimit": 10000
     },
     "inputWidgets": {},
     "nuid": "4f13c10e-291e-419a-8296-1b16e2484b76",
     "showTitle": false,
     "tableResultSettingsMap": {},
     "title": ""
    },
    "id": "WKlZorcbe86E"
   },
   "source": [
    "La méthode subtract prend un RDD en entrée et retourne un nouveau RDD contenant des éléments dans le RDD source mais pas dans le RDD en entrée."
   ]
  },
  {
   "cell_type": "code",
   "execution_count": 0,
   "metadata": {
    "application/vnd.databricks.v1+cell": {
     "cellMetadata": {
      "byteLimit": 2048000,
      "rowLimit": 10000
     },
     "inputWidgets": {},
     "nuid": "22f5218e-6feb-484f-99cb-27ec254b36d3",
     "showTitle": false,
     "tableResultSettingsMap": {},
     "title": ""
    },
    "id": "ugpoK5Noe86E",
    "tags": []
   },
   "outputs": [],
   "source": [
    "x = sc.parallelize([1,2,3])\n",
    "y = sc.parallelize([4,6,3])\n",
    "z = x.subtract(y)\n",
    "z.collect()"
   ]
  },
  {
   "cell_type": "markdown",
   "metadata": {
    "application/vnd.databricks.v1+cell": {
     "cellMetadata": {
      "byteLimit": 2048000,
      "rowLimit": 10000
     },
     "inputWidgets": {},
     "nuid": "45b5ac8c-bd48-44e1-a8fc-c25523f3d802",
     "showTitle": false,
     "tableResultSettingsMap": {},
     "title": ""
    },
    "id": "cqvLYTuHe86E"
   },
   "source": [
    "## La transformation Distinct"
   ]
  },
  {
   "cell_type": "markdown",
   "metadata": {
    "application/vnd.databricks.v1+cell": {
     "cellMetadata": {
      "byteLimit": 2048000,
      "rowLimit": 10000
     },
     "inputWidgets": {},
     "nuid": "85df4f1a-60a1-45cc-aaad-e7377a04242a",
     "showTitle": false,
     "tableResultSettingsMap": {},
     "title": ""
    },
    "id": "gF_4dJque86E"
   },
   "source": [
    "La méthode distincte d'un RDD renvoie un nouveau RDD contenant les éléments distincts dans le RDD source."
   ]
  },
  {
   "cell_type": "code",
   "execution_count": 0,
   "metadata": {
    "application/vnd.databricks.v1+cell": {
     "cellMetadata": {
      "byteLimit": 2048000,
      "rowLimit": 10000
     },
     "inputWidgets": {},
     "nuid": "a76dd976-5ac7-49b2-85e8-4e9223e492ba",
     "showTitle": false,
     "tableResultSettingsMap": {},
     "title": ""
    },
    "id": "XL9nD2sAe86F",
    "tags": []
   },
   "outputs": [],
   "source": [
    "x = sc.parallelize([1,2,3,4,5,3,2,4])\n",
    "y = x.distinct()\n",
    "y.collect()"
   ]
  },
  {
   "cell_type": "markdown",
   "metadata": {
    "application/vnd.databricks.v1+cell": {
     "cellMetadata": {
      "byteLimit": 2048000,
      "rowLimit": 10000
     },
     "inputWidgets": {},
     "nuid": "fa9dd445-def0-47fa-a6ff-058d6ff85741",
     "showTitle": false,
     "tableResultSettingsMap": {},
     "title": ""
    },
    "id": "mcgc4HTfe86F"
   },
   "source": [
    "## La transformation Join"
   ]
  },
  {
   "cell_type": "markdown",
   "metadata": {
    "application/vnd.databricks.v1+cell": {
     "cellMetadata": {
      "byteLimit": 2048000,
      "rowLimit": 10000
     },
     "inputWidgets": {},
     "nuid": "e5accdf3-558a-4de4-a4ac-4685f748c9e9",
     "showTitle": false,
     "tableResultSettingsMap": {},
     "title": ""
    },
    "id": "RnaMKnbOe86F"
   },
   "source": [
    "\n",
    "La méthode de \"join\" prend un RDD de paires clé-valeur en entrée et effectue une jointure interne sur les RDD source et en entrée."
   ]
  },
  {
   "cell_type": "code",
   "execution_count": 0,
   "metadata": {
    "application/vnd.databricks.v1+cell": {
     "cellMetadata": {
      "byteLimit": 2048000,
      "rowLimit": 10000
     },
     "inputWidgets": {},
     "nuid": "6cd535c4-a33b-4a3f-84e8-2899e45cdd82",
     "showTitle": false,
     "tableResultSettingsMap": {},
     "title": ""
    },
    "id": "jmRreCCRe86F",
    "tags": []
   },
   "outputs": [],
   "source": [
    "x = sc.parallelize([(\"TWTR\", \"Twitter\"), (\"GOOG\", \"Google\"), (\"AAPL\", \"Apple\")])\n",
    "y = sc.parallelize([(\"TWTR\", 36), (\"GOOG\", 532), (\"AAPL\", 127)])\n",
    "z = x.join(y).map(lambda x : x[1])\n",
    "z.collect()"
   ]
  },
  {
   "cell_type": "markdown",
   "metadata": {
    "application/vnd.databricks.v1+cell": {
     "cellMetadata": {
      "byteLimit": 2048000,
      "rowLimit": 10000
     },
     "inputWidgets": {},
     "nuid": "21df8fd0-7e33-4bb3-b9e6-37593700f87f",
     "showTitle": false,
     "tableResultSettingsMap": {},
     "title": ""
    },
    "id": "vAbrpySee86G"
   },
   "source": [
    "## La transformation KeyBy"
   ]
  },
  {
   "cell_type": "markdown",
   "metadata": {
    "application/vnd.databricks.v1+cell": {
     "cellMetadata": {
      "byteLimit": 2048000,
      "rowLimit": 10000
     },
     "inputWidgets": {},
     "nuid": "123c0f63-c4b8-4b95-bb5c-92db06e7a17c",
     "showTitle": false,
     "tableResultSettingsMap": {},
     "title": ""
    },
    "id": "V8wxNLzoe86G"
   },
   "source": [
    "Créez un RDD Pair,  formant une paire pour chaque article du RDD original.\n",
    "La clé de la paire est calculée à partir de la valeur via une fonction fournie par l'utilisateur."
   ]
  },
  {
   "cell_type": "code",
   "execution_count": 0,
   "metadata": {
    "application/vnd.databricks.v1+cell": {
     "cellMetadata": {
      "byteLimit": 2048000,
      "rowLimit": 10000
     },
     "inputWidgets": {},
     "nuid": "b62c39ec-1a64-4ddf-bc15-ec8a131cd98e",
     "showTitle": false,
     "tableResultSettingsMap": {},
     "title": ""
    },
    "id": "a0h9Bh2Oe86G",
    "tags": []
   },
   "outputs": [],
   "source": [
    "x = sc.parallelize(range(0,5)).keyBy(lambda x: x*x)\n",
    "x.collect()"
   ]
  },
  {
   "cell_type": "markdown",
   "metadata": {
    "application/vnd.databricks.v1+cell": {
     "cellMetadata": {
      "byteLimit": 2048000,
      "rowLimit": 10000
     },
     "inputWidgets": {},
     "nuid": "81fd456d-a26b-499d-b960-ef6d997af52c",
     "showTitle": false,
     "tableResultSettingsMap": {},
     "title": ""
    },
    "id": "EKcXGEt0e86G"
   },
   "source": [
    "## Exercice 4\n",
    "\n",
    "\n",
    "Créez un RDD à partir de cette liste, puis utilisez .keyBy pour créer une paire RDD avec:\n",
    "['New York, NY', 'Philadelphia, PA', 'Denver, CO', 'San Francisco, CA'])\n",
    "\n",
    "Résultat :\n",
    "[('New York', ' NY'), ('Philadelphia', ' PA'), ('Denver', ' CO'), ('San Francisco', ' CA')]"
   ]
  },
  {
   "cell_type": "code",
   "execution_count": 0,
   "metadata": {
    "application/vnd.databricks.v1+cell": {
     "cellMetadata": {
      "byteLimit": 2048000,
      "rowLimit": 10000
     },
     "inputWidgets": {},
     "nuid": "fd698bd5-a420-42cd-938e-8d5b0cdab8b4",
     "showTitle": false,
     "tableResultSettingsMap": {},
     "title": ""
    },
    "id": "e1ogpsHle86G"
   },
   "outputs": [],
   "source": [
    "y = sc.parallelize(['New York, NY', 'Philadelphia, PA', 'Denver, CO', 'San Francisco, CA'])\n",
    "\n",
    "# Complétez le code\n"
   ]
  },
  {
   "cell_type": "markdown",
   "metadata": {
    "application/vnd.databricks.v1+cell": {
     "cellMetadata": {
      "byteLimit": 2048000,
      "rowLimit": 10000
     },
     "inputWidgets": {},
     "nuid": "a60a2a46-27d7-4593-896d-d885eb0ef011",
     "showTitle": false,
     "tableResultSettingsMap": {},
     "title": ""
    },
    "id": "uzZDpHi-e86H"
   },
   "source": [
    "## Transformation leftOuterJoin / rightOuterJoin"
   ]
  },
  {
   "cell_type": "markdown",
   "metadata": {
    "application/vnd.databricks.v1+cell": {
     "cellMetadata": {
      "byteLimit": 2048000,
      "rowLimit": 10000
     },
     "inputWidgets": {},
     "nuid": "c26e8b4d-2d20-41aa-a859-af1ba2458257",
     "showTitle": false,
     "tableResultSettingsMap": {},
     "title": ""
    },
    "id": "Y2h11ZFze86H"
   },
   "source": [
    "Effectue une jointure externe gauche / droite à l'aide de deux RDD clé-valeur. Veuillez noter que les touches doivent être généralement comparables pour que cela fonctionne correctement."
   ]
  },
  {
   "cell_type": "code",
   "execution_count": 0,
   "metadata": {
    "application/vnd.databricks.v1+cell": {
     "cellMetadata": {
      "byteLimit": 2048000,
      "rowLimit": 10000
     },
     "inputWidgets": {},
     "nuid": "2bbd6a37-b510-4e4d-8c9d-263c41200554",
     "showTitle": false,
     "tableResultSettingsMap": {},
     "title": ""
    },
    "id": "FsMLCfoFe86H",
    "tags": []
   },
   "outputs": [],
   "source": [
    "x = sc.parallelize([(\"a\", 1), (\"b\", 2), (\"c\", 2)])\n",
    "y = sc.parallelize([(\"a\", 3), (\"a\", 4), (\"b\", 5)] )\n",
    "z = x.leftOuterJoin(y)\n",
    "print(z.collect())"
   ]
  },
  {
   "cell_type": "markdown",
   "metadata": {
    "application/vnd.databricks.v1+cell": {
     "cellMetadata": {
      "byteLimit": 2048000,
      "rowLimit": 10000
     },
     "inputWidgets": {},
     "nuid": "ab2f8f48-4b42-4b9c-9fe8-c04af736cc5d",
     "showTitle": false,
     "tableResultSettingsMap": {},
     "title": ""
    },
    "id": "_P57WQOse86H"
   },
   "source": [
    "## Exercice 5"
   ]
  },
  {
   "cell_type": "markdown",
   "metadata": {
    "application/vnd.databricks.v1+cell": {
     "cellMetadata": {
      "byteLimit": 2048000,
      "rowLimit": 10000
     },
     "inputWidgets": {},
     "nuid": "0966f029-5f34-43ae-9950-772c40d4bb44",
     "showTitle": false,
     "tableResultSettingsMap": {},
     "title": ""
    },
    "id": "96mfUI48e86H"
   },
   "source": [
    "\n",
    "Créer une paire RDD renvoyant tous les mots par longueur pour les deux listes:\n",
    "\n",
    "list1 = [\"dog\",\"cat\",\"gnu\",\"salmon\",\"rabbit\",\"turkey\",\"wolf\",\"bear\",\"bee\"]\n",
    "list2 = [“dog”, “salmon”, “salmon”, “rat”, “elephant”]\n",
    "\n",
    "Notez que le programme devra renvoyer au minimum tous les éléments de la list1."
   ]
  },
  {
   "cell_type": "code",
   "execution_count": 0,
   "metadata": {
    "application/vnd.databricks.v1+cell": {
     "cellMetadata": {
      "byteLimit": 2048000,
      "rowLimit": 10000
     },
     "inputWidgets": {},
     "nuid": "0553c54b-0d27-489d-b143-ed3e064306e8",
     "showTitle": false,
     "tableResultSettingsMap": {},
     "title": ""
    },
    "id": "BbkcM2vge86I",
    "tags": []
   },
   "outputs": [],
   "source": [
    "list2 = sc.parallelize(['dog', 'salmon', 'salmon', 'rat', 'elephant'])\n",
    "list1 = sc.parallelize(['dog','cat','gnu','salmon','rabbit','turkey','wolf','bear','bee'])\n",
    "\n",
    "# Complétez le code\n",
    "z = list1.keyBy(lambda x : len(x))\n",
    "v = list2.keyBy(lambda x : len(x))\n",
    "w = z.leftOuterJoin(v)\n",
    "w.collect()"
   ]
  },
  {
   "cell_type": "markdown",
   "metadata": {
    "application/vnd.databricks.v1+cell": {
     "cellMetadata": {
      "byteLimit": 2048000,
      "rowLimit": 10000
     },
     "inputWidgets": {},
     "nuid": "ea939b14-dc01-4c03-87bc-251478bf0285",
     "showTitle": false,
     "tableResultSettingsMap": {},
     "title": ""
    },
    "id": "IQp1tAF3e86I"
   },
   "source": [
    "## La transformation PartitionBy"
   ]
  },
  {
   "cell_type": "markdown",
   "metadata": {
    "application/vnd.databricks.v1+cell": {
     "cellMetadata": {
      "byteLimit": 2048000,
      "rowLimit": 10000
     },
     "inputWidgets": {},
     "nuid": "9a769efb-51f9-4f5a-999d-b2e86fa9a015",
     "showTitle": false,
     "tableResultSettingsMap": {},
     "title": ""
    },
    "id": "5vXvC5ahe86I"
   },
   "source": [
    "Renvoie un nouveau RDD avec le nombre spécifié de partitions, en plaçant les éléments d'origine dans la partition renvoyée par un partitionneur fourni par l'utilisateur."
   ]
  },
  {
   "cell_type": "code",
   "execution_count": 0,
   "metadata": {
    "application/vnd.databricks.v1+cell": {
     "cellMetadata": {
      "byteLimit": 2048000,
      "rowLimit": 10000
     },
     "inputWidgets": {},
     "nuid": "09c4f51c-b4d9-4324-ae7a-dfb4994dd996",
     "showTitle": false,
     "tableResultSettingsMap": {},
     "title": ""
    },
    "id": "99rWr93te86I",
    "tags": []
   },
   "outputs": [],
   "source": [
    "rdd = sc.parallelize([('J', \"James\"), ('F', \"Fred\"), ('A', \"Anna\"), ('J', \"John\")])\n",
    "\n",
    "rdd1 = rdd.partitionBy(2)\n",
    "rdd2 = rdd.partitionBy(3)\n",
    "\n",
    "print(\"2 partitions : \",rdd1.glom().collect())\n",
    "print(\"3 partitions : \",rdd2.glom().collect())\n"
   ]
  },
  {
   "cell_type": "markdown",
   "metadata": {
    "application/vnd.databricks.v1+cell": {
     "cellMetadata": {
      "byteLimit": 2048000,
      "rowLimit": 10000
     },
     "inputWidgets": {},
     "nuid": "0bc1148f-8ead-47a6-b357-09c3d53c1bac",
     "showTitle": false,
     "tableResultSettingsMap": {},
     "title": ""
    },
    "id": "21nN4w_Le86J"
   },
   "source": [
    "Renvoye un nouveau fichier RDD contenant des paires dont la clé est l’élément du fichier original, et dont la valeur correspond à l’élément correspondant de cet élément (même partition, même index) dans un deuxième fichier RDD.\n",
    "\n",
    "![title](http://i.imgur.com/5J0lg6g.png)\n",
    "\n"
   ]
  },
  {
   "cell_type": "code",
   "execution_count": 0,
   "metadata": {
    "application/vnd.databricks.v1+cell": {
     "cellMetadata": {
      "byteLimit": 2048000,
      "rowLimit": 10000
     },
     "inputWidgets": {},
     "nuid": "89074c77-8bc2-42a9-bb68-2a3d06cce7a0",
     "showTitle": false,
     "tableResultSettingsMap": {},
     "title": ""
    },
    "id": "zvv8cAd3e86J",
    "tags": []
   },
   "outputs": [],
   "source": [
    "x = sc.parallelize(range(0,5))\n",
    "y = sc.parallelize(range(1000, 1005))\n",
    "x.zip(y).collect()\n",
    "[(0, 1000), (1, 1001), (2, 1002), (3, 1003), (4, 1004)]"
   ]
  },
  {
   "cell_type": "markdown",
   "metadata": {
    "application/vnd.databricks.v1+cell": {
     "cellMetadata": {
      "byteLimit": 2048000,
      "rowLimit": 10000
     },
     "inputWidgets": {},
     "nuid": "8a9177ec-417e-406d-99ee-91bcb5ff45ad",
     "showTitle": false,
     "tableResultSettingsMap": {},
     "title": ""
    },
    "id": "xYNDoafJe86J"
   },
   "source": [
    "# Les actions"
   ]
  },
  {
   "cell_type": "markdown",
   "metadata": {
    "application/vnd.databricks.v1+cell": {
     "cellMetadata": {
      "byteLimit": 2048000,
      "rowLimit": 10000
     },
     "inputWidgets": {},
     "nuid": "60263342-df6f-4c29-b886-7bf5083b94e0",
     "showTitle": false,
     "tableResultSettingsMap": {},
     "title": ""
    },
    "id": "DUVpvv1Je86J"
   },
   "source": [
    "Les actions calculent un résultat (par exemple, des données numériques ou créer une structure de données non RDD) ou produire un effet secondaire, tel que l'écriture d'une sortie sur un disque.\n",
    "___________________"
   ]
  },
  {
   "cell_type": "markdown",
   "metadata": {
    "application/vnd.databricks.v1+cell": {
     "cellMetadata": {
      "byteLimit": 2048000,
      "rowLimit": 10000
     },
     "inputWidgets": {},
     "nuid": "545bae23-696b-4b2d-a192-17f4183abcff",
     "showTitle": false,
     "tableResultSettingsMap": {},
     "title": ""
    },
    "id": "6FRy4coOe86K"
   },
   "source": [
    "## L'action Reduce"
   ]
  },
  {
   "cell_type": "markdown",
   "metadata": {
    "application/vnd.databricks.v1+cell": {
     "cellMetadata": {
      "byteLimit": 2048000,
      "rowLimit": 10000
     },
     "inputWidgets": {},
     "nuid": "b9f8c9e0-47e1-40c0-828c-1475dcb692c3",
     "showTitle": false,
     "tableResultSettingsMap": {},
     "title": ""
    },
    "id": "jwEfBOhVe86K"
   },
   "source": [
    "Comptez le nombre de mots pour cette liste avec les fonctions map et reduce:\n",
    "\n",
    "[‘Spark s est vraiement facile’,‘Qu en pensez vous ?’]"
   ]
  },
  {
   "cell_type": "code",
   "execution_count": 0,
   "metadata": {
    "application/vnd.databricks.v1+cell": {
     "cellMetadata": {
      "byteLimit": 2048000,
      "rowLimit": 10000
     },
     "inputWidgets": {},
     "nuid": "8bd989d3-130d-4bbe-9e11-b060b88997b4",
     "showTitle": false,
     "tableResultSettingsMap": {},
     "title": ""
    },
    "id": "F5YVVMPSe86K",
    "tags": []
   },
   "outputs": [],
   "source": [
    "from operator import add\n",
    "x = sc.parallelize(['Spark s est vraiement facile','Qu en pensez vous ?'])\n",
    "y = x.map(lambda x : x.split(' ')).flatMap(lambda x : x).map(lambda x : 1)\n",
    "y.reduce(add)"
   ]
  },
  {
   "cell_type": "markdown",
   "metadata": {
    "application/vnd.databricks.v1+cell": {
     "cellMetadata": {
      "byteLimit": 2048000,
      "rowLimit": 10000
     },
     "inputWidgets": {},
     "nuid": "a85044d3-5167-4a79-b40e-824b6bc265e7",
     "showTitle": false,
     "tableResultSettingsMap": {},
     "title": ""
    },
    "id": "yMTuCIGfe86K"
   },
   "source": [
    "## Les actions : Count, Max, Min, Sum, Mean, Variance, Stdev, stats"
   ]
  },
  {
   "cell_type": "code",
   "execution_count": 0,
   "metadata": {
    "application/vnd.databricks.v1+cell": {
     "cellMetadata": {
      "byteLimit": 2048000,
      "rowLimit": 10000
     },
     "inputWidgets": {},
     "nuid": "c4e2e725-1de9-4a2a-8b09-55a8ba885c11",
     "showTitle": false,
     "tableResultSettingsMap": {},
     "title": ""
    },
    "id": "dzzM4gQie86K",
    "tags": []
   },
   "outputs": [],
   "source": [
    "x = sc.parallelize(range(10))\n",
    "\n",
    "print(\"count\",x.count())\n",
    "print(\"max\",x.max())\n",
    "print(\"min\",x.min())\n",
    "print(\"sum\",x.sum())\n",
    "print(\"mean\",x.mean())\n",
    "print(\"variance\",x.variance())\n",
    "print(\"stdev\",x.stdev())\n",
    "print(\"stat\", x.stats())"
   ]
  },
  {
   "cell_type": "markdown",
   "metadata": {
    "application/vnd.databricks.v1+cell": {
     "cellMetadata": {
      "byteLimit": 2048000,
      "rowLimit": 10000
     },
     "inputWidgets": {},
     "nuid": "b39ddcc1-c75b-4d5f-9d9f-7272c19e8fa9",
     "showTitle": false,
     "tableResultSettingsMap": {},
     "title": ""
    },
    "id": "7uqYXd01e86L"
   },
   "source": [
    "## L'action CountByKey"
   ]
  },
  {
   "cell_type": "markdown",
   "metadata": {
    "application/vnd.databricks.v1+cell": {
     "cellMetadata": {
      "byteLimit": 2048000,
      "rowLimit": 10000
     },
     "inputWidgets": {},
     "nuid": "8444731e-8d1a-4804-bd1f-40e6ed8c568e",
     "showTitle": false,
     "tableResultSettingsMap": {},
     "title": ""
    },
    "id": "C1L1rTN4e86L"
   },
   "source": [
    "CountByKey : Retourne une liste des clés et compte leurs occurrences dans le RDD\n"
   ]
  },
  {
   "cell_type": "code",
   "execution_count": 0,
   "metadata": {
    "application/vnd.databricks.v1+cell": {
     "cellMetadata": {
      "byteLimit": 2048000,
      "rowLimit": 10000
     },
     "inputWidgets": {},
     "nuid": "b5b8fb80-54b8-49a5-baee-2b3c19d3bc51",
     "showTitle": false,
     "tableResultSettingsMap": {},
     "title": ""
    },
    "id": "ebUKWH9Xe86L",
    "tags": []
   },
   "outputs": [],
   "source": [
    "x = sc.parallelize([('J', \"James\"), ('F', \"Fred\"), ('A', \"Anna\"), ('J', \"John\")])\n",
    "y = x.countByKey()\n",
    "\n",
    "print(y)\n"
   ]
  },
  {
   "cell_type": "markdown",
   "metadata": {
    "application/vnd.databricks.v1+cell": {
     "cellMetadata": {
      "byteLimit": 2048000,
      "rowLimit": 10000
     },
     "inputWidgets": {},
     "nuid": "6ec6a69d-1044-4003-a67d-cdc059d8f99a",
     "showTitle": false,
     "tableResultSettingsMap": {},
     "title": ""
    },
    "id": "CeRRnr45e86L"
   },
   "source": [
    "## ReduceByKey"
   ]
  },
  {
   "cell_type": "markdown",
   "metadata": {
    "application/vnd.databricks.v1+cell": {
     "cellMetadata": {
      "byteLimit": 2048000,
      "rowLimit": 10000
     },
     "inputWidgets": {},
     "nuid": "16193ecc-9a46-4468-b1bd-86d9c897c6c6",
     "showTitle": false,
     "tableResultSettingsMap": {},
     "title": ""
    },
    "id": "14KwjPy9e86L"
   },
   "source": [
    "Regroupe tous les éléments du RDD en appliquant une fonction utilisateur par paire aux éléments et aux résultats partiels et renvoyez un résultat au pilote."
   ]
  },
  {
   "cell_type": "code",
   "execution_count": 0,
   "metadata": {
    "application/vnd.databricks.v1+cell": {
     "cellMetadata": {
      "byteLimit": 2048000,
      "rowLimit": 10000
     },
     "inputWidgets": {},
     "nuid": "1845a209-ba91-43e7-80a8-4ae38a0f8942",
     "showTitle": false,
     "tableResultSettingsMap": {},
     "title": ""
    },
    "id": "gJ_lW3yxe86M",
    "tags": []
   },
   "outputs": [],
   "source": [
    "from operator import add\n",
    "z = sc.parallelize([(1,20),(1,30),(3,60),(3,20),(3,20)])\n",
    "\n",
    "result = z.reduceByKey(add)\n",
    "result.collect()\n"
   ]
  },
  {
   "cell_type": "markdown",
   "metadata": {
    "application/vnd.databricks.v1+cell": {
     "cellMetadata": {
      "byteLimit": 2048000,
      "rowLimit": 10000
     },
     "inputWidgets": {},
     "nuid": "10178ad2-b809-485f-8d2c-bf25487b0217",
     "showTitle": false,
     "tableResultSettingsMap": {},
     "title": ""
    },
    "id": "WscYo89Me86M"
   },
   "source": [
    "## Exercice 6"
   ]
  },
  {
   "cell_type": "markdown",
   "metadata": {
    "application/vnd.databricks.v1+cell": {
     "cellMetadata": {
      "byteLimit": 2048000,
      "rowLimit": 10000
     },
     "inputWidgets": {},
     "nuid": "00bac5db-0064-41a2-81c8-4d38fdd1b345",
     "showTitle": false,
     "tableResultSettingsMap": {},
     "title": ""
    },
    "id": "j4D3r5JDe86M"
   },
   "source": [
    "Comptez le nombre de mots pour cette liste avec la fonction map et reduce :"
   ]
  },
  {
   "cell_type": "code",
   "execution_count": 0,
   "metadata": {
    "application/vnd.databricks.v1+cell": {
     "cellMetadata": {
      "byteLimit": 2048000,
      "rowLimit": 10000
     },
     "inputWidgets": {},
     "nuid": "29864035-3813-4bb2-be3c-d5ef463b5f83",
     "showTitle": false,
     "tableResultSettingsMap": {},
     "title": ""
    },
    "id": "b7JB1zcce86M",
    "tags": []
   },
   "outputs": [],
   "source": [
    "from operator import add\n",
    "x = sc.parallelize(['Spark s est vraiement facile','Qu en pensez vous ?'])\n",
    "# Complétez le code\n"
   ]
  },
  {
   "cell_type": "markdown",
   "metadata": {
    "application/vnd.databricks.v1+cell": {
     "cellMetadata": {
      "byteLimit": 2048000,
      "rowLimit": 10000
     },
     "inputWidgets": {},
     "nuid": "0f92d8b5-22d4-44ad-9f1f-0b1beb8509f4",
     "showTitle": false,
     "tableResultSettingsMap": {},
     "title": ""
    },
    "id": "03YOm9Ace86M"
   },
   "source": [
    "Vous pouvez à présent fermer le SparkContext."
   ]
  },
  {
   "cell_type": "code",
   "execution_count": 0,
   "metadata": {
    "application/vnd.databricks.v1+cell": {
     "cellMetadata": {
      "byteLimit": 2048000,
      "rowLimit": 10000
     },
     "inputWidgets": {},
     "nuid": "4de45901-7cce-494f-9931-24d3d3d41994",
     "showTitle": false,
     "tableResultSettingsMap": {},
     "title": ""
    },
    "id": "ZiUwFO9de86N"
   },
   "outputs": [],
   "source": []
  }
 ],
 "metadata": {
  "application/vnd.databricks.v1+notebook": {
   "dashboards": [],
   "environmentMetadata": null,
   "language": "python",
   "notebookMetadata": {
    "pythonIndentUnit": 2
   },
   "notebookName": "Spark_TP01_RDD-databricks",
   "widgets": {}
  },
  "colab": {
   "provenance": []
  },
  "kernelspec": {
   "display_name": "Python 3 (ipykernel)",
   "language": "python",
   "name": "python3"
  },
  "language_info": {
   "codemirror_mode": {
    "name": "ipython",
    "version": 3
   },
   "file_extension": ".py",
   "mimetype": "text/x-python",
   "name": "python",
   "nbconvert_exporter": "python",
   "pygments_lexer": "ipython3",
   "version": "3.7.10"
  }
 },
 "nbformat": 4,
 "nbformat_minor": 0
}
